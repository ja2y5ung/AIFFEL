{
 "cells": [
  {
   "cell_type": "markdown",
   "id": "competitive-power",
   "metadata": {},
   "source": [
    "# 🎬 네이버 영화리뷰 감성분석 도전하기"
   ]
  },
  {
   "cell_type": "markdown",
   "id": "skilled-zoning",
   "metadata": {},
   "source": [
    "노드실습때는 영문 텍스트의 감정분석을 해봤다. 이번 프로젝트에서는 한국어 텍스트의 감정분석을 진행해보려한다."
   ]
  },
  {
   "cell_type": "markdown",
   "id": "revised-luxury",
   "metadata": {},
   "source": [
    "## 1) 데이터 준비와 확인"
   ]
  },
  {
   "cell_type": "markdown",
   "id": "separated-novelty",
   "metadata": {},
   "source": [
    "프로젝트에 활용할 데이터셋은 네이버 영화의 댓글을 모아 구성된 Naver sentiment movie corpus다."
   ]
  },
  {
   "cell_type": "code",
   "execution_count": 24,
   "id": "interior-procedure",
   "metadata": {},
   "outputs": [
    {
     "data": {
      "text/html": [
       "<div>\n",
       "<style scoped>\n",
       "    .dataframe tbody tr th:only-of-type {\n",
       "        vertical-align: middle;\n",
       "    }\n",
       "\n",
       "    .dataframe tbody tr th {\n",
       "        vertical-align: top;\n",
       "    }\n",
       "\n",
       "    .dataframe thead th {\n",
       "        text-align: right;\n",
       "    }\n",
       "</style>\n",
       "<table border=\"1\" class=\"dataframe\">\n",
       "  <thead>\n",
       "    <tr style=\"text-align: right;\">\n",
       "      <th></th>\n",
       "      <th>id</th>\n",
       "      <th>document</th>\n",
       "      <th>label</th>\n",
       "    </tr>\n",
       "  </thead>\n",
       "  <tbody>\n",
       "    <tr>\n",
       "      <th>0</th>\n",
       "      <td>9976970</td>\n",
       "      <td>아 더빙.. 진짜 짜증나네요 목소리</td>\n",
       "      <td>0</td>\n",
       "    </tr>\n",
       "    <tr>\n",
       "      <th>1</th>\n",
       "      <td>3819312</td>\n",
       "      <td>흠...포스터보고 초딩영화줄....오버연기조차 가볍지 않구나</td>\n",
       "      <td>1</td>\n",
       "    </tr>\n",
       "    <tr>\n",
       "      <th>2</th>\n",
       "      <td>10265843</td>\n",
       "      <td>너무재밓었다그래서보는것을추천한다</td>\n",
       "      <td>0</td>\n",
       "    </tr>\n",
       "    <tr>\n",
       "      <th>3</th>\n",
       "      <td>9045019</td>\n",
       "      <td>교도소 이야기구먼 ..솔직히 재미는 없다..평점 조정</td>\n",
       "      <td>0</td>\n",
       "    </tr>\n",
       "    <tr>\n",
       "      <th>4</th>\n",
       "      <td>6483659</td>\n",
       "      <td>사이몬페그의 익살스런 연기가 돋보였던 영화!스파이더맨에서 늙어보이기만 했던 커스틴 ...</td>\n",
       "      <td>1</td>\n",
       "    </tr>\n",
       "  </tbody>\n",
       "</table>\n",
       "</div>"
      ],
      "text/plain": [
       "         id                                           document  label\n",
       "0   9976970                                아 더빙.. 진짜 짜증나네요 목소리      0\n",
       "1   3819312                  흠...포스터보고 초딩영화줄....오버연기조차 가볍지 않구나      1\n",
       "2  10265843                                  너무재밓었다그래서보는것을추천한다      0\n",
       "3   9045019                      교도소 이야기구먼 ..솔직히 재미는 없다..평점 조정      0\n",
       "4   6483659  사이몬페그의 익살스런 연기가 돋보였던 영화!스파이더맨에서 늙어보이기만 했던 커스틴 ...      1"
      ]
     },
     "execution_count": 24,
     "metadata": {},
     "output_type": "execute_result"
    }
   ],
   "source": [
    "import pandas as pd\n",
    "import urllib.request\n",
    "%matplotlib inline\n",
    "import matplotlib.pyplot as plt\n",
    "import re\n",
    "from konlpy.tag import Okt\n",
    "from tensorflow import keras\n",
    "from tensorflow.keras.preprocessing.text import Tokenizer\n",
    "import numpy as np\n",
    "from tensorflow.keras.preprocessing.sequence import pad_sequences\n",
    "from collections import Counter\n",
    "import os\n",
    "\n",
    "# 데이터를 읽어봅시다. \n",
    "train_data = pd.read_table('~/aiffel/sentiment_classification/data/ratings_train.txt')\n",
    "test_data = pd.read_table('~/aiffel/sentiment_classification/data/ratings_test.txt')\n",
    "\n",
    "train_data.head()"
   ]
  },
  {
   "cell_type": "markdown",
   "id": "russian-disorder",
   "metadata": {},
   "source": [
    "## 2) 데이터로더 구성"
   ]
  },
  {
   "cell_type": "markdown",
   "id": "criminal-millennium",
   "metadata": {},
   "source": [
    "실슬때는 가공된 데이터를 사용했지만 프로젝트에서는 가공되지 않은 파일로 구성돼있기 때문에 다음의 기능을 포함한다.\n",
    "> - 데이터 중복 제거\n",
    "> - 결측치 제거\n",
    "> - 토크나이저로 토큰화\n",
    "> - word_to_index 구성\n",
    "> - 텍스트 문자열을 사전 인덱스 스트링으로 변환"
   ]
  },
  {
   "cell_type": "code",
   "execution_count": 25,
   "id": "lyric-haiti",
   "metadata": {},
   "outputs": [],
   "source": [
    "from konlpy.tag import Mecab\n",
    "tokenizer = Mecab()\n",
    "stopwords = ['의','가','이','은','들','는','좀','잘','걍','과','도','를','으로','자','에','와','한','하다']\n",
    "\n",
    "def load_data(train_data, test_data, num_words=10000):\n",
    "    train_data.drop_duplicates(subset=['document'], inplace=True)\n",
    "    train_data = train_data.dropna(how = 'any') \n",
    "    test_data.drop_duplicates(subset=['document'], inplace=True)\n",
    "    test_data = test_data.dropna(how = 'any') \n",
    "    \n",
    "    X_train = []\n",
    "    for sentence in train_data['document']:\n",
    "        temp_X = tokenizer.morphs(sentence) # 토큰화\n",
    "        temp_X = [word for word in temp_X if not word in stopwords] # 불용어 제거\n",
    "        X_train.append(temp_X)\n",
    "\n",
    "    X_test = []\n",
    "    for sentence in test_data['document']:\n",
    "        temp_X = tokenizer.morphs(sentence) # 토큰화\n",
    "        temp_X = [word for word in temp_X if not word in stopwords] # 불용어 제거\n",
    "        X_test.append(temp_X)\n",
    "    \n",
    "    words = np.concatenate(X_train).tolist()\n",
    "    counter = Counter(words)\n",
    "    counter = counter.most_common(10000-4)\n",
    "    vocab = ['<PAD>', '<BOS>', '<UNK>', '<UNUSED>'] + [key for key, _ in counter]\n",
    "    word_to_index = {word:index for index, word in enumerate(vocab)}\n",
    "        \n",
    "    def wordlist_to_indexlist(wordlist):\n",
    "        return [word_to_index[word] if word in word_to_index else word_to_index['<UNK>'] for word in wordlist]\n",
    "        \n",
    "    X_train = list(map(wordlist_to_indexlist, X_train))\n",
    "    X_test = list(map(wordlist_to_indexlist, X_test))\n",
    "\n",
    "    \n",
    "    return X_train, np.array(list(train_data['label'])), X_test, np.array(list(test_data['label'])), word_to_index\n",
    "    \n",
    "x_train, y_train, x_test, y_test, word_to_index = load_data(train_data, test_data) "
   ]
  },
  {
   "cell_type": "code",
   "execution_count": 32,
   "id": "different-metro",
   "metadata": {},
   "outputs": [
    {
     "name": "stdout",
     "output_type": "stream",
     "text": [
      "0 <PAD>\n",
      "1 <BOS>\n",
      "2 <UNK>\n",
      "3 <UNUSED>\n",
      "4 .\n",
      "5 영화\n",
      "6 다\n",
      "7 고\n",
      "8 하\n",
      "9 을\n",
      "10 보\n"
     ]
    }
   ],
   "source": [
    "index_to_word = {index:word for word, index in word_to_index.items()}\n",
    "for key, ind in enumerate(index_to_word):\n",
    "    print(key, index_to_word[ind])\n",
    "    if ind == 10:\n",
    "        break"
   ]
  },
  {
   "cell_type": "code",
   "execution_count": 4,
   "id": "humanitarian-estimate",
   "metadata": {},
   "outputs": [
    {
     "name": "stdout",
     "output_type": "stream",
     "text": [
      "146182\n",
      "146182\n",
      "49157\n",
      "49157\n"
     ]
    }
   ],
   "source": [
    "print(len(x_train))\n",
    "print(len(y_train))\n",
    "\n",
    "print(len(x_test))\n",
    "print(len(y_test))\n"
   ]
  },
  {
   "cell_type": "code",
   "execution_count": 5,
   "id": "alternative-benjamin",
   "metadata": {
    "scrolled": true
   },
   "outputs": [
    {
     "name": "stdout",
     "output_type": "stream",
     "text": [
      "146182\n",
      "49157\n"
     ]
    }
   ],
   "source": [
    "print(len(x_train))\n",
    "print(len(x_test))"
   ]
  },
  {
   "cell_type": "code",
   "execution_count": 6,
   "id": "collectible-broadcasting",
   "metadata": {},
   "outputs": [
    {
     "name": "stdout",
     "output_type": "stream",
     "text": [
      "(146182,)\n",
      "(49157,)\n"
     ]
    }
   ],
   "source": [
    "y_train = np.array(y_train)\n",
    "y_test = np.array(y_test)\n",
    "\n",
    "print(y_train.shape)\n",
    "print(y_test.shape)"
   ]
  },
  {
   "cell_type": "markdown",
   "id": "extended-webster",
   "metadata": {},
   "source": [
    "## 3) 모델구성을 위한 데이터 분석 및 가공"
   ]
  },
  {
   "cell_type": "code",
   "execution_count": 7,
   "id": "unlike-corps",
   "metadata": {},
   "outputs": [],
   "source": [
    "total_data_text = list(x_train) + list(x_test)\n",
    "# 텍스트데이터 문장길이의 리스트를 생성한 후\n",
    "num_tokens = [len(tokens) for tokens in total_data_text]\n",
    "num_tokens = np.array(num_tokens)"
   ]
  },
  {
   "cell_type": "code",
   "execution_count": 8,
   "id": "derived-divorce",
   "metadata": {},
   "outputs": [
    {
     "name": "stdout",
     "output_type": "stream",
     "text": [
      "pad_sequences maxlen :  41\n",
      "전체 문장의 0.9342988343341575%가 maxlen 설정값 이내에 포함됩니다. \n"
     ]
    }
   ],
   "source": [
    "max_tokens = np.mean(num_tokens) + 2 * np.std(num_tokens)\n",
    "maxlen = int(max_tokens)\n",
    "print('pad_sequences maxlen : ', maxlen)\n",
    "print('전체 문장의 {}%가 maxlen 설정값 이내에 포함됩니다. '.format(np.sum(num_tokens < max_tokens) / len(num_tokens)))"
   ]
  },
  {
   "cell_type": "code",
   "execution_count": 9,
   "id": "cleared-boxing",
   "metadata": {},
   "outputs": [],
   "source": [
    "x_train = keras.preprocessing.sequence.pad_sequences(x_train,\n",
    "                                                        value=word_to_index[\"<PAD>\"],\n",
    "                                                        padding='post', # 혹은 'pre'\n",
    "                                                        maxlen=maxlen)\n",
    "\n",
    "x_test = keras.preprocessing.sequence.pad_sequences(x_test,\n",
    "                                                       value=word_to_index[\"<PAD>\"],\n",
    "                                                       padding='post', # 혹은 'pre'\n",
    "                                                       maxlen=maxlen)"
   ]
  },
  {
   "cell_type": "code",
   "execution_count": 10,
   "id": "bizarre-headline",
   "metadata": {},
   "outputs": [
    {
     "name": "stdout",
     "output_type": "stream",
     "text": [
      "(146182, 41)\n"
     ]
    },
    {
     "data": {
      "text/plain": [
       "array([[  32,   74,  919, ...,    0,    0,    0],\n",
       "       [1028,    4,   11, ...,    0,    0,    0],\n",
       "       [  24,  205,    2, ...,    0,    0,    0],\n",
       "       ...,\n",
       "       [ 154,    2,   18, ...,    0,    0,    0],\n",
       "       [1052,    5, 2516, ...,    0,    0,    0],\n",
       "       [ 181,    5, 1945, ...,    0,    0,    0]], dtype=int32)"
      ]
     },
     "execution_count": 10,
     "metadata": {},
     "output_type": "execute_result"
    }
   ],
   "source": [
    "print(x_train.shape)\n",
    "x_train"
   ]
  },
  {
   "cell_type": "code",
   "execution_count": 11,
   "id": "worldwide-services",
   "metadata": {},
   "outputs": [
    {
     "name": "stdout",
     "output_type": "stream",
     "text": [
      "(49157, 41)\n"
     ]
    },
    {
     "data": {
      "text/plain": [
       "array([[ 832,  130,    0, ...,    0,    0,    0],\n",
       "       [   2,    0,    0, ...,    0,    0,    0],\n",
       "       [  85,  111,   58, ...,    0,    0,    0],\n",
       "       ...,\n",
       "       [1039,   19,    7, ...,    0,    0,    0],\n",
       "       [ 418,  492,   27, ...,    0,    0,    0],\n",
       "       [1009,  179,   63, ...,    0,    0,    0]], dtype=int32)"
      ]
     },
     "execution_count": 11,
     "metadata": {},
     "output_type": "execute_result"
    }
   ],
   "source": [
    "print(x_test.shape)\n",
    "x_test"
   ]
  },
  {
   "cell_type": "markdown",
   "id": "exposed-virtue",
   "metadata": {},
   "source": [
    "## 4) 모델 구성 및 validation set 구성"
   ]
  },
  {
   "cell_type": "markdown",
   "id": "european-environment",
   "metadata": {},
   "source": [
    "RNN, GlobalMaxPooling1D(), 1-D Convolution Neural Network(1-D CNN) 세가지 모델을 활용해 워드 임베딩을 사용하지 않은 방법으로 학습시켜보자."
   ]
  },
  {
   "cell_type": "code",
   "execution_count": 12,
   "id": "severe-trick",
   "metadata": {},
   "outputs": [
    {
     "name": "stdout",
     "output_type": "stream",
     "text": [
      "(36545, 41)\n",
      "(109637, 41)\n"
     ]
    },
    {
     "data": {
      "text/plain": [
       "146182"
      ]
     },
     "execution_count": 12,
     "metadata": {},
     "output_type": "execute_result"
    }
   ],
   "source": [
    "# validation set 10000건 분리\n",
    "x_val = x_train[:36545]   \n",
    "y_val = y_train[:36545]\n",
    "\n",
    "# validation set을 제외한 나머지 15000건\n",
    "partial_x_train = x_train[36545:]  \n",
    "partial_y_train = y_train[36545:]\n",
    "\n",
    "\n",
    "print(x_val.shape)\n",
    "print(partial_x_train.shape)\n",
    "\n",
    "x_val.shape[0] + partial_x_train.shape[0]"
   ]
  },
  {
   "cell_type": "markdown",
   "id": "wanted-wings",
   "metadata": {},
   "source": [
    "### 4-1) RNN model"
   ]
  },
  {
   "cell_type": "code",
   "execution_count": 177,
   "id": "sound-driving",
   "metadata": {},
   "outputs": [
    {
     "name": "stdout",
     "output_type": "stream",
     "text": [
      "Model: \"sequential_27\"\n",
      "_________________________________________________________________\n",
      "Layer (type)                 Output Shape              Param #   \n",
      "=================================================================\n",
      "embedding_27 (Embedding)     (None, None, 300)         3000000   \n",
      "_________________________________________________________________\n",
      "lstm_18 (LSTM)               (None, 8)                 9888      \n",
      "_________________________________________________________________\n",
      "dense_50 (Dense)             (None, 8)                 72        \n",
      "_________________________________________________________________\n",
      "dense_51 (Dense)             (None, 1)                 9         \n",
      "=================================================================\n",
      "Total params: 3,009,969\n",
      "Trainable params: 3,009,969\n",
      "Non-trainable params: 0\n",
      "_________________________________________________________________\n"
     ]
    }
   ],
   "source": [
    "vocab_size = 10000    # 어휘 사전의 크기입니다(10,000개의 단어)\n",
    "word_vector_dim = 300  # 워드 벡터의 차원 수 (변경 가능한 하이퍼파라미터)\n",
    "\n",
    "# model 설계 - 딥러닝 모델 코드를 직접 작성해 주세요.\n",
    "model = keras.Sequential()\n",
    "model.add(keras.layers.Embedding(vocab_size, word_vector_dim, input_shape=(None,)))\n",
    "model.add(keras.layers.LSTM(8)) \n",
    "model.add(keras.layers.Dense(8, activation='relu'))\n",
    "model.add(keras.layers.Dense(1, activation='sigmoid'))  # 최종 출력은 긍정/부정을 나타내는 1dim 입니다.\n",
    "\n",
    "model.summary()"
   ]
  },
  {
   "cell_type": "code",
   "execution_count": 178,
   "id": "strange-montreal",
   "metadata": {},
   "outputs": [
    {
     "name": "stdout",
     "output_type": "stream",
     "text": [
      "Epoch 1/10\n",
      "215/215 [==============================] - 11s 44ms/step - loss: 0.6329 - accuracy: 0.6061 - val_loss: 0.3967 - val_accuracy: 0.8409\n",
      "Epoch 2/10\n",
      "215/215 [==============================] - 9s 42ms/step - loss: 0.3590 - accuracy: 0.8585 - val_loss: 0.3506 - val_accuracy: 0.8514\n",
      "Epoch 3/10\n",
      "215/215 [==============================] - 9s 42ms/step - loss: 0.2965 - accuracy: 0.8825 - val_loss: 0.3396 - val_accuracy: 0.8552\n",
      "Epoch 4/10\n",
      "215/215 [==============================] - 9s 42ms/step - loss: 0.2607 - accuracy: 0.8967 - val_loss: 0.3408 - val_accuracy: 0.8556\n",
      "Epoch 5/10\n",
      "215/215 [==============================] - 9s 42ms/step - loss: 0.2301 - accuracy: 0.9100 - val_loss: 0.3478 - val_accuracy: 0.8553\n",
      "Epoch 6/10\n",
      "215/215 [==============================] - 9s 42ms/step - loss: 0.2038 - accuracy: 0.9213 - val_loss: 0.3684 - val_accuracy: 0.8534\n",
      "Epoch 7/10\n",
      "215/215 [==============================] - 9s 42ms/step - loss: 0.1790 - accuracy: 0.9317 - val_loss: 0.4085 - val_accuracy: 0.8510\n",
      "Epoch 8/10\n",
      "215/215 [==============================] - 9s 42ms/step - loss: 0.1525 - accuracy: 0.9444 - val_loss: 0.4206 - val_accuracy: 0.8506\n",
      "Epoch 9/10\n",
      "215/215 [==============================] - 9s 41ms/step - loss: 0.1379 - accuracy: 0.9499 - val_loss: 0.4743 - val_accuracy: 0.8438\n",
      "Epoch 10/10\n",
      "215/215 [==============================] - 9s 42ms/step - loss: 0.1262 - accuracy: 0.9559 - val_loss: 0.4912 - val_accuracy: 0.8470\n"
     ]
    }
   ],
   "source": [
    "model.compile(optimizer='adam',\n",
    "              loss='binary_crossentropy',\n",
    "              metrics=['accuracy'])\n",
    "              \n",
    "epochs=10\n",
    "\n",
    "history = model.fit(partial_x_train,\n",
    "                    partial_y_train,\n",
    "                    epochs=epochs,\n",
    "                    batch_size=512,\n",
    "                    validation_data=(x_val, y_val),\n",
    "                    verbose=1)"
   ]
  },
  {
   "cell_type": "code",
   "execution_count": 179,
   "id": "indirect-spell",
   "metadata": {},
   "outputs": [
    {
     "name": "stdout",
     "output_type": "stream",
     "text": [
      "1537/1537 - 5s - loss: 0.4936 - accuracy: 0.8438\n",
      "[0.49360260367393494, 0.8438472747802734]\n"
     ]
    }
   ],
   "source": [
    "results = model.evaluate(x_test,  y_test, verbose=2)\n",
    "\n",
    "print(results)"
   ]
  },
  {
   "cell_type": "code",
   "execution_count": 180,
   "id": "other-superior",
   "metadata": {},
   "outputs": [
    {
     "name": "stdout",
     "output_type": "stream",
     "text": [
      "dict_keys(['loss', 'accuracy', 'val_loss', 'val_accuracy'])\n"
     ]
    }
   ],
   "source": [
    "history_dict = history.history\n",
    "print(history_dict.keys()) # epoch에 따른 그래프를 그려볼 수 있는 항목들"
   ]
  },
  {
   "cell_type": "code",
   "execution_count": 181,
   "id": "honest-trout",
   "metadata": {},
   "outputs": [
    {
     "data": {
      "image/png": "[encoded data removed]",
      "text/plain": [
       "<Figure size 432x288 with 1 Axes>"
      ]
     },
     "metadata": {
      "needs_background": "light"
     },
     "output_type": "display_data"
    }
   ],
   "source": [
    "import matplotlib.pyplot as plt\n",
    "\n",
    "acc = history_dict['accuracy']\n",
    "val_acc = history_dict['val_accuracy']\n",
    "loss = history_dict['loss']\n",
    "val_loss = history_dict['val_loss']\n",
    "\n",
    "epochs = range(1, len(acc) + 1)\n",
    "\n",
    "# \"bo\"는 \"파란색 점\"입니다\n",
    "plt.plot(epochs, loss, 'bo', label='Training loss')\n",
    "# b는 \"파란 실선\"입니다\n",
    "plt.plot(epochs, val_loss, 'b', label='Validation loss')\n",
    "plt.title('Training and validation loss')\n",
    "plt.xlabel('Epochs')\n",
    "plt.ylabel('Loss')\n",
    "plt.legend()\n",
    "\n",
    "plt.show()"
   ]
  },
  {
   "cell_type": "code",
   "execution_count": 182,
   "id": "extreme-pathology",
   "metadata": {},
   "outputs": [
    {
     "data": {
      "image/png": "[encoded data removed]",
      "text/plain": [
       "<Figure size 432x288 with 1 Axes>"
      ]
     },
     "metadata": {
      "needs_background": "light"
     },
     "output_type": "display_data"
    }
   ],
   "source": [
    "plt.clf()   # 그림을 초기화합니다\n",
    "\n",
    "plt.plot(epochs, acc, 'bo', label='Training acc')\n",
    "plt.plot(epochs, val_acc, 'b', label='Validation acc')\n",
    "plt.title('Training and validation accuracy')\n",
    "plt.xlabel('Epochs')\n",
    "plt.ylabel('Accuracy')\n",
    "plt.legend()\n",
    "\n",
    "plt.show()"
   ]
  },
  {
   "cell_type": "markdown",
   "id": "conservative-cooler",
   "metadata": {},
   "source": [
    "### 4-2) GlobalMaxPooling1D()"
   ]
  },
  {
   "cell_type": "code",
   "execution_count": 170,
   "id": "corrected-latter",
   "metadata": {},
   "outputs": [
    {
     "name": "stdout",
     "output_type": "stream",
     "text": [
      "Model: \"sequential_26\"\n",
      "_________________________________________________________________\n",
      "Layer (type)                 Output Shape              Param #   \n",
      "=================================================================\n",
      "embedding_26 (Embedding)     (None, None, 300)         3000000   \n",
      "_________________________________________________________________\n",
      "global_max_pooling1d_6 (Glob (None, 300)               0         \n",
      "_________________________________________________________________\n",
      "dense_48 (Dense)             (None, 8)                 2408      \n",
      "_________________________________________________________________\n",
      "dense_49 (Dense)             (None, 1)                 9         \n",
      "=================================================================\n",
      "Total params: 3,002,417\n",
      "Trainable params: 3,002,417\n",
      "Non-trainable params: 0\n",
      "_________________________________________________________________\n"
     ]
    }
   ],
   "source": [
    "vocab_size = 10000    # 어휘 사전의 크기입니다(10,000개의 단어)\n",
    "word_vector_dim = 300  # 워드 벡터의 차원 수 (변경 가능한 하이퍼파라미터)\n",
    "\n",
    "model2 = keras.Sequential()\n",
    "model2.add(keras.layers.Embedding(vocab_size, word_vector_dim, input_shape=(None,)))\n",
    "model2.add(keras.layers.GlobalMaxPooling1D())\n",
    "model2.add(keras.layers.Dense(8, activation='relu'))\n",
    "model2.add(keras.layers.Dense(1, activation='sigmoid'))  # 최종 출력은 긍정/부정을 나타내는 1dim 입니다.\n",
    "\n",
    "model2.summary()"
   ]
  },
  {
   "cell_type": "code",
   "execution_count": 171,
   "id": "former-serbia",
   "metadata": {},
   "outputs": [
    {
     "name": "stdout",
     "output_type": "stream",
     "text": [
      "(36545, 41)\n",
      "(109637, 41)\n"
     ]
    }
   ],
   "source": [
    "print(x_val.shape)\n",
    "print(partial_x_train.shape)"
   ]
  },
  {
   "cell_type": "code",
   "execution_count": 172,
   "id": "engaged-rebel",
   "metadata": {},
   "outputs": [
    {
     "name": "stdout",
     "output_type": "stream",
     "text": [
      "Epoch 1/10\n",
      "215/215 [==============================] - 9s 37ms/step - loss: 0.5705 - accuracy: 0.7354 - val_loss: 0.3475 - val_accuracy: 0.8492\n",
      "Epoch 2/10\n",
      "215/215 [==============================] - 8s 37ms/step - loss: 0.3145 - accuracy: 0.8678 - val_loss: 0.3354 - val_accuracy: 0.8546\n",
      "Epoch 3/10\n",
      "215/215 [==============================] - 8s 36ms/step - loss: 0.2527 - accuracy: 0.9008 - val_loss: 0.3432 - val_accuracy: 0.8557\n",
      "Epoch 4/10\n",
      "215/215 [==============================] - 8s 37ms/step - loss: 0.2097 - accuracy: 0.9226 - val_loss: 0.3591 - val_accuracy: 0.8545\n",
      "Epoch 5/10\n",
      "215/215 [==============================] - 8s 37ms/step - loss: 0.1627 - accuracy: 0.9449 - val_loss: 0.3820 - val_accuracy: 0.8542\n",
      "Epoch 6/10\n",
      "215/215 [==============================] - 8s 37ms/step - loss: 0.1185 - accuracy: 0.9628 - val_loss: 0.4200 - val_accuracy: 0.8506\n",
      "Epoch 7/10\n",
      "215/215 [==============================] - 8s 36ms/step - loss: 0.0820 - accuracy: 0.9788 - val_loss: 0.4577 - val_accuracy: 0.8482\n",
      "Epoch 8/10\n",
      "215/215 [==============================] - 8s 36ms/step - loss: 0.0561 - accuracy: 0.9871 - val_loss: 0.5002 - val_accuracy: 0.8460\n",
      "Epoch 9/10\n",
      "215/215 [==============================] - 8s 36ms/step - loss: 0.0361 - accuracy: 0.9920 - val_loss: 0.5397 - val_accuracy: 0.8432\n",
      "Epoch 10/10\n",
      "215/215 [==============================] - 8s 37ms/step - loss: 0.0264 - accuracy: 0.9941 - val_loss: 0.5766 - val_accuracy: 0.8432\n"
     ]
    }
   ],
   "source": [
    "model2.compile(optimizer='adam',\n",
    "              loss='binary_crossentropy',\n",
    "              metrics=['accuracy'])\n",
    "              \n",
    "epochs=10\n",
    "\n",
    "history2 = model2.fit(partial_x_train,\n",
    "                    partial_y_train,\n",
    "                    epochs=epochs,\n",
    "                    batch_size=512,\n",
    "                    validation_data=(x_val, y_val),\n",
    "                    verbose=1)"
   ]
  },
  {
   "cell_type": "code",
   "execution_count": 173,
   "id": "danish-darwin",
   "metadata": {},
   "outputs": [
    {
     "name": "stdout",
     "output_type": "stream",
     "text": [
      "1537/1537 - 3s - loss: 0.5873 - accuracy: 0.8386\n",
      "[0.5872730612754822, 0.8386394381523132]\n"
     ]
    }
   ],
   "source": [
    "results2 = model2.evaluate(x_test,  y_test, verbose=2)\n",
    "\n",
    "print(results2)"
   ]
  },
  {
   "cell_type": "code",
   "execution_count": 174,
   "id": "exact-wholesale",
   "metadata": {},
   "outputs": [
    {
     "name": "stdout",
     "output_type": "stream",
     "text": [
      "dict_keys(['loss', 'accuracy', 'val_loss', 'val_accuracy'])\n"
     ]
    }
   ],
   "source": [
    "history_dict2 = history2.history\n",
    "print(history_dict2.keys()) # epoch에 따른 그래프를 그려볼 수 있는 항목들"
   ]
  },
  {
   "cell_type": "code",
   "execution_count": 175,
   "id": "athletic-tissue",
   "metadata": {},
   "outputs": [
    {
     "data": {
      "image/png": "[encoded data removed]",
      "text/plain": [
       "<Figure size 432x288 with 1 Axes>"
      ]
     },
     "metadata": {
      "needs_background": "light"
     },
     "output_type": "display_data"
    }
   ],
   "source": [
    "acc = history_dict2['accuracy']\n",
    "val_acc = history_dict2['val_accuracy']\n",
    "loss = history_dict2['loss']\n",
    "val_loss = history_dict2['val_loss']\n",
    "\n",
    "epochs = range(1, len(acc) + 1)\n",
    "\n",
    "# \"bo\"는 \"파란색 점\"입니다\n",
    "plt.plot(epochs, loss, 'bo', label='Training loss')\n",
    "# b는 \"파란 실선\"입니다\n",
    "plt.plot(epochs, val_loss, 'b', label='Validation loss')\n",
    "plt.title('Training and validation loss')\n",
    "plt.xlabel('Epochs')\n",
    "plt.ylabel('Loss')\n",
    "plt.legend()\n",
    "\n",
    "plt.show()"
   ]
  },
  {
   "cell_type": "code",
   "execution_count": 176,
   "id": "organic-finding",
   "metadata": {},
   "outputs": [
    {
     "data": {
      "image/png": "[encoded data removed]",
      "text/plain": [
       "<Figure size 432x288 with 1 Axes>"
      ]
     },
     "metadata": {
      "needs_background": "light"
     },
     "output_type": "display_data"
    }
   ],
   "source": [
    "plt.clf()   # 그림을 초기화합니다\n",
    "\n",
    "plt.plot(epochs, acc, 'bo', label='Training acc')\n",
    "plt.plot(epochs, val_acc, 'b', label='Validation acc')\n",
    "plt.title('Training and validation accuracy')\n",
    "plt.xlabel('Epochs')\n",
    "plt.ylabel('Accuracy')\n",
    "plt.legend()\n",
    "\n",
    "plt.show()"
   ]
  },
  {
   "cell_type": "markdown",
   "id": "corresponding-february",
   "metadata": {},
   "source": [
    "### 4-3) 1-D Convolution Neural Network(1-D CNN)"
   ]
  },
  {
   "cell_type": "code",
   "execution_count": 167,
   "id": "identified-eclipse",
   "metadata": {},
   "outputs": [
    {
     "name": "stdout",
     "output_type": "stream",
     "text": [
      "Model: \"sequential_25\"\n",
      "_________________________________________________________________\n",
      "Layer (type)                 Output Shape              Param #   \n",
      "=================================================================\n",
      "embedding_25 (Embedding)     (None, None, 300)         3000000   \n",
      "_________________________________________________________________\n",
      "conv1d_6 (Conv1D)            (None, None, 16)          33616     \n",
      "_________________________________________________________________\n",
      "max_pooling1d_3 (MaxPooling1 (None, None, 16)          0         \n",
      "_________________________________________________________________\n",
      "conv1d_7 (Conv1D)            (None, None, 16)          1808      \n",
      "_________________________________________________________________\n",
      "global_max_pooling1d_5 (Glob (None, 16)                0         \n",
      "_________________________________________________________________\n",
      "dense_46 (Dense)             (None, 8)                 136       \n",
      "_________________________________________________________________\n",
      "dense_47 (Dense)             (None, 1)                 9         \n",
      "=================================================================\n",
      "Total params: 3,035,569\n",
      "Trainable params: 3,035,569\n",
      "Non-trainable params: 0\n",
      "_________________________________________________________________\n"
     ]
    }
   ],
   "source": [
    "vocab_size = 10000  # 어휘 사전의 크기입니다(10000개의 단어)\n",
    "word_vector_dim = 300  # 단어 하나를 표현하는 임베딩 벡터의 차원 수입니다. \n",
    "\n",
    "model_cnn = keras.Sequential()\n",
    "model_cnn.add(keras.layers.Embedding(vocab_size, word_vector_dim, input_shape=(None,)))\n",
    "model_cnn.add(keras.layers.Conv1D(16, 7, activation='relu'))\n",
    "model_cnn.add(keras.layers.MaxPooling1D(5))\n",
    "model_cnn.add(keras.layers.Conv1D(16, 7, activation='relu'))\n",
    "model_cnn.add(keras.layers.GlobalMaxPooling1D())\n",
    "model_cnn.add(keras.layers.Dense(8, activation='relu'))\n",
    "model_cnn.add(keras.layers.Dense(1, activation='sigmoid'))  # 최종 출력은 긍정/부정을 나타내는 1dim 입니다.\n",
    "\n",
    "model_cnn.summary()"
   ]
  },
  {
   "cell_type": "code",
   "execution_count": 168,
   "id": "fewer-panel",
   "metadata": {},
   "outputs": [
    {
     "name": "stdout",
     "output_type": "stream",
     "text": [
      "Epoch 1/10\n",
      "215/215 [==============================] - 15s 59ms/step - loss: 0.5685 - accuracy: 0.6879 - val_loss: 0.3463 - val_accuracy: 0.8482\n",
      "Epoch 2/10\n",
      "215/215 [==============================] - 9s 43ms/step - loss: 0.3040 - accuracy: 0.8743 - val_loss: 0.3299 - val_accuracy: 0.8562\n",
      "Epoch 3/10\n",
      "215/215 [==============================] - 9s 44ms/step - loss: 0.2384 - accuracy: 0.9070 - val_loss: 0.3432 - val_accuracy: 0.8541\n",
      "Epoch 4/10\n",
      "215/215 [==============================] - 9s 43ms/step - loss: 0.1681 - accuracy: 0.9397 - val_loss: 0.3900 - val_accuracy: 0.8516\n",
      "Epoch 5/10\n",
      "215/215 [==============================] - 9s 43ms/step - loss: 0.1151 - accuracy: 0.9608 - val_loss: 0.4505 - val_accuracy: 0.8446\n",
      "Epoch 6/10\n",
      "215/215 [==============================] - 9s 43ms/step - loss: 0.0753 - accuracy: 0.9761 - val_loss: 0.5194 - val_accuracy: 0.8446\n",
      "Epoch 7/10\n",
      "215/215 [==============================] - 9s 43ms/step - loss: 0.0522 - accuracy: 0.9843 - val_loss: 0.5942 - val_accuracy: 0.8424\n",
      "Epoch 8/10\n",
      "215/215 [==============================] - 9s 43ms/step - loss: 0.0406 - accuracy: 0.9877 - val_loss: 0.6515 - val_accuracy: 0.8405\n",
      "Epoch 9/10\n",
      "215/215 [==============================] - 9s 43ms/step - loss: 0.0319 - accuracy: 0.9906 - val_loss: 0.7144 - val_accuracy: 0.8372\n",
      "Epoch 10/10\n",
      "215/215 [==============================] - 9s 43ms/step - loss: 0.0269 - accuracy: 0.9919 - val_loss: 0.7760 - val_accuracy: 0.8379\n"
     ]
    }
   ],
   "source": [
    "model_cnn.compile(optimizer='adam',\n",
    "              loss='binary_crossentropy',\n",
    "              metrics=['accuracy'])\n",
    "              \n",
    "epochs=10\n",
    "\n",
    "history_cnn = model_cnn.fit(partial_x_train,\n",
    "                    partial_y_train,\n",
    "                    epochs=epochs,\n",
    "                    batch_size=512,\n",
    "                    validation_data=(x_val, y_val),\n",
    "                    verbose=1)"
   ]
  },
  {
   "cell_type": "code",
   "execution_count": 169,
   "id": "fluid-haven",
   "metadata": {},
   "outputs": [
    {
     "name": "stdout",
     "output_type": "stream",
     "text": [
      "1537/1537 - 5s - loss: 0.8252 - accuracy: 0.8298\n",
      "[0.8251777291297913, 0.8297902345657349]\n"
     ]
    }
   ],
   "source": [
    "results_cnn = model_cnn.evaluate(x_test,  y_test, verbose=2)\n",
    "\n",
    "print(results_cnn)"
   ]
  },
  {
   "cell_type": "code",
   "execution_count": 159,
   "id": "ongoing-compact",
   "metadata": {},
   "outputs": [
    {
     "name": "stdout",
     "output_type": "stream",
     "text": [
      "dict_keys(['loss', 'accuracy', 'val_loss', 'val_accuracy'])\n"
     ]
    }
   ],
   "source": [
    "history_dict_cnn = history_cnn.history\n",
    "print(history_dict_cnn.keys()) # epoch에 따른 그래프를 그려볼 수 있는 항목들"
   ]
  },
  {
   "cell_type": "code",
   "execution_count": 160,
   "id": "streaming-textbook",
   "metadata": {},
   "outputs": [
    {
     "data": {
      "image/png": "[encoded data removed]",
      "text/plain": [
       "<Figure size 432x288 with 1 Axes>"
      ]
     },
     "metadata": {
      "needs_background": "light"
     },
     "output_type": "display_data"
    }
   ],
   "source": [
    "acc = history_dict_cnn['accuracy']\n",
    "val_acc = history_dict_cnn['val_accuracy']\n",
    "loss = history_dict_cnn['loss']\n",
    "val_loss = history_dict_cnn['val_loss']\n",
    "\n",
    "epochs = range(1, len(acc) + 1)\n",
    "\n",
    "# \"bo\"는 \"파란색 점\"입니다\n",
    "plt.plot(epochs, loss, 'bo', label='Training loss')\n",
    "# b는 \"파란 실선\"입니다\n",
    "plt.plot(epochs, val_loss, 'b', label='Validation loss')\n",
    "plt.title('Training and validation loss')\n",
    "plt.xlabel('Epochs')\n",
    "plt.ylabel('Loss')\n",
    "plt.legend()\n",
    "\n",
    "plt.show()"
   ]
  },
  {
   "cell_type": "code",
   "execution_count": 161,
   "id": "amateur-productivity",
   "metadata": {},
   "outputs": [
    {
     "data": {
      "image/png": "[encoded data removed]",
      "text/plain": [
       "<Figure size 432x288 with 1 Axes>"
      ]
     },
     "metadata": {
      "needs_background": "light"
     },
     "output_type": "display_data"
    }
   ],
   "source": [
    "plt.clf()   # 그림을 초기화합니다\n",
    "\n",
    "plt.plot(epochs, acc, 'bo', label='Training acc')\n",
    "plt.plot(epochs, val_acc, 'b', label='Validation acc')\n",
    "plt.title('Training and validation accuracy')\n",
    "plt.xlabel('Epochs')\n",
    "plt.ylabel('Accuracy')\n",
    "plt.legend()\n",
    "\n",
    "plt.show()"
   ]
  },
  {
   "cell_type": "markdown",
   "id": "graduate-roots",
   "metadata": {},
   "source": [
    "> 파라미터 변경, 워드 임베딩을 사용하지 않았을때 생각보다 acc가 높지 않았다."
   ]
  },
  {
   "cell_type": "markdown",
   "id": "conditional-coordinate",
   "metadata": {},
   "source": [
    "## 5) 학습된 Embedding 레이어 분석"
   ]
  },
  {
   "cell_type": "markdown",
   "id": "other-scroll",
   "metadata": {},
   "source": [
    "- 개인적인 생각으로는 벡터가 16차원으로 축소되면서 중요한 정보를 잃었다고 생각이 들었다. \n",
    "  점점 차원수를 늘려가면서 acc와 loss값에 변화가 있는지 확인해보려한다.\n",
    "  가장 인식률이 좋았던 LSTM layer의 임베딩 벡터 사이즈를 변경 해보자. \n",
    "\n",
    "-  또한 에포크가 너무커서 과적합이 일어날 수 있기때문에 변화를 주었다."
   ]
  },
  {
   "cell_type": "markdown",
   "id": "comparable-entertainment",
   "metadata": {},
   "source": [
    "### 5-1) vector size 변경"
   ]
  },
  {
   "cell_type": "markdown",
   "id": "multiple-hawaii",
   "metadata": {},
   "source": [
    "위에서 3개의 모델을 맨처음에 구성할때 vector size를 16, epoch를 20으로 줬었는데, vector size를 300, epoch를 10으로 각각 변화를 주었다."
   ]
  },
  {
   "cell_type": "code",
   "execution_count": 13,
   "id": "bronze-bottle",
   "metadata": {},
   "outputs": [
    {
     "name": "stdout",
     "output_type": "stream",
     "text": [
      "Model: \"sequential\"\n",
      "_________________________________________________________________\n",
      "Layer (type)                 Output Shape              Param #   \n",
      "=================================================================\n",
      "embedding (Embedding)        (None, None, 500)         5000000   \n",
      "_________________________________________________________________\n",
      "lstm (LSTM)                  (None, 8)                 16288     \n",
      "_________________________________________________________________\n",
      "dense (Dense)                (None, 8)                 72        \n",
      "_________________________________________________________________\n",
      "dense_1 (Dense)              (None, 1)                 9         \n",
      "=================================================================\n",
      "Total params: 5,016,369\n",
      "Trainable params: 5,016,369\n",
      "Non-trainable params: 0\n",
      "_________________________________________________________________\n"
     ]
    }
   ],
   "source": [
    "vocab_size = 10000    # 어휘 사전의 크기입니다(10,000개의 단어)\n",
    "word_vector_dim = 500  # 워드 벡터의 차원 수 (변경 가능한 하이퍼파라미터)\n",
    "\n",
    "# model 설계 - 딥러닝 모델 코드를 직접 작성해 주세요.\n",
    "model_vec_200 = keras.Sequential()\n",
    "model_vec_200.add(keras.layers.Embedding(vocab_size, word_vector_dim, input_shape=(None,)))\n",
    "model_vec_200.add(keras.layers.LSTM(8)) \n",
    "model_vec_200.add(keras.layers.Dense(8, activation='relu'))\n",
    "model_vec_200.add(keras.layers.Dense(1, activation='sigmoid'))  # 최종 출력은 긍정/부정을 나타내는 1dim 입니다.\n",
    "\n",
    "model_vec_200.summary()"
   ]
  },
  {
   "cell_type": "code",
   "execution_count": 15,
   "id": "equal-intellectual",
   "metadata": {},
   "outputs": [
    {
     "name": "stdout",
     "output_type": "stream",
     "text": [
      "Epoch 1/10\n",
      "215/215 [==============================] - 17s 66ms/step - loss: 0.6536 - accuracy: 0.5858 - val_loss: 0.5589 - val_accuracy: 0.7716\n",
      "Epoch 2/10\n",
      "215/215 [==============================] - 14s 63ms/step - loss: 0.5006 - accuracy: 0.7905 - val_loss: 0.4272 - val_accuracy: 0.8068\n",
      "Epoch 3/10\n",
      "215/215 [==============================] - 14s 64ms/step - loss: 0.4182 - accuracy: 0.8271 - val_loss: 0.3785 - val_accuracy: 0.8393\n",
      "Epoch 4/10\n",
      "215/215 [==============================] - 14s 63ms/step - loss: 0.3253 - accuracy: 0.8693 - val_loss: 0.3663 - val_accuracy: 0.8459\n",
      "Epoch 5/10\n",
      "215/215 [==============================] - 14s 64ms/step - loss: 0.2840 - accuracy: 0.8876 - val_loss: 0.3578 - val_accuracy: 0.8482\n",
      "Epoch 6/10\n",
      "215/215 [==============================] - 15s 68ms/step - loss: 0.2634 - accuracy: 0.8969 - val_loss: 0.3630 - val_accuracy: 0.8490\n",
      "Epoch 7/10\n",
      "215/215 [==============================] - 14s 64ms/step - loss: 0.2421 - accuracy: 0.9056 - val_loss: 0.3779 - val_accuracy: 0.8494\n",
      "Epoch 8/10\n",
      "215/215 [==============================] - 14s 63ms/step - loss: 0.2219 - accuracy: 0.9137 - val_loss: 0.3947 - val_accuracy: 0.8489\n",
      "Epoch 9/10\n",
      "215/215 [==============================] - 14s 64ms/step - loss: 0.2007 - accuracy: 0.9226 - val_loss: 0.3986 - val_accuracy: 0.8491\n",
      "Epoch 10/10\n",
      "215/215 [==============================] - 14s 63ms/step - loss: 0.1892 - accuracy: 0.9284 - val_loss: 0.4351 - val_accuracy: 0.8467\n"
     ]
    }
   ],
   "source": [
    "model_vec_200.compile(optimizer='adam',\n",
    "              loss='binary_crossentropy',\n",
    "              metrics=['accuracy'])\n",
    "              \n",
    "epochs=10\n",
    "\n",
    "history_vec_200 = model_vec_200.fit(partial_x_train,\n",
    "                    partial_y_train,\n",
    "                    epochs=epochs,\n",
    "                    batch_size=512,\n",
    "                    validation_data=(x_val, y_val),\n",
    "                    verbose=1)"
   ]
  },
  {
   "cell_type": "code",
   "execution_count": 16,
   "id": "legitimate-xerox",
   "metadata": {},
   "outputs": [
    {
     "name": "stdout",
     "output_type": "stream",
     "text": [
      "1537/1537 - 5s - loss: 0.4472 - accuracy: 0.8404\n",
      "[0.4472179114818573, 0.8403889536857605]\n"
     ]
    }
   ],
   "source": [
    "results_vec_200 = model_vec_200.evaluate(x_test,  y_test, verbose=2)\n",
    "\n",
    "print(results_vec_200)"
   ]
  },
  {
   "cell_type": "code",
   "execution_count": 18,
   "id": "driven-literacy",
   "metadata": {},
   "outputs": [
    {
     "name": "stdout",
     "output_type": "stream",
     "text": [
      "dict_keys(['loss', 'accuracy', 'val_loss', 'val_accuracy'])\n"
     ]
    }
   ],
   "source": [
    "history_dict_vec_200 = history_vec_200.history\n",
    "print(history_dict_vec_200.keys()) # epoch에 따른 그래프를 그려볼 수 있는 항목들"
   ]
  },
  {
   "cell_type": "code",
   "execution_count": 19,
   "id": "boxed-catalyst",
   "metadata": {},
   "outputs": [
    {
     "data": {
      "image/png": "[encoded data removed]",
      "text/plain": [
       "<Figure size 432x288 with 1 Axes>"
      ]
     },
     "metadata": {
      "needs_background": "light"
     },
     "output_type": "display_data"
    }
   ],
   "source": [
    "acc = history_dict_vec_200['accuracy']\n",
    "val_acc = history_dict_vec_200['val_accuracy']\n",
    "loss = history_dict_vec_200['loss']\n",
    "val_loss = history_dict_vec_200['val_loss']\n",
    "\n",
    "epochs = range(1, len(acc) + 1)\n",
    "\n",
    "# \"bo\"는 \"파란색 점\"입니다\n",
    "plt.plot(epochs, loss, 'bo', label='Training loss')\n",
    "# b는 \"파란 실선\"입니다\n",
    "plt.plot(epochs, val_loss, 'b', label='Validation loss')\n",
    "plt.title('Training and validation loss')\n",
    "plt.xlabel('Epochs')\n",
    "plt.ylabel('Loss')\n",
    "plt.legend()\n",
    "\n",
    "plt.show()"
   ]
  },
  {
   "cell_type": "code",
   "execution_count": 20,
   "id": "fancy-brook",
   "metadata": {},
   "outputs": [
    {
     "data": {
      "image/png": "[encoded data removed]",
      "text/plain": [
       "<Figure size 432x288 with 1 Axes>"
      ]
     },
     "metadata": {
      "needs_background": "light"
     },
     "output_type": "display_data"
    }
   ],
   "source": [
    "plt.clf()   # 그림을 초기화합니다\n",
    "\n",
    "plt.plot(epochs, acc, 'bo', label='Training acc')\n",
    "plt.plot(epochs, val_acc, 'b', label='Validation acc')\n",
    "plt.title('Training and validation accuracy')\n",
    "plt.xlabel('Epochs')\n",
    "plt.ylabel('Accuracy')\n",
    "plt.legend()\n",
    "\n",
    "plt.show()"
   ]
  },
  {
   "cell_type": "markdown",
   "id": "agreed-hotel",
   "metadata": {},
   "source": [
    "### 5-2) dropout layer 추가"
   ]
  },
  {
   "cell_type": "markdown",
   "id": "patient-century",
   "metadata": {},
   "source": [
    "EX1 시간에  dropout layer를 사용하면 과적합문제에 도움이 된다고 배웠던 기억이 생각나,\n",
    "LSTM 레이어 뒤에 dropout레이어를 추가했다. 마찬가지로 성능이 제일 좋았던 LSTM모델을 사용했다."
   ]
  },
  {
   "cell_type": "code",
   "execution_count": 28,
   "id": "coordinated-block",
   "metadata": {},
   "outputs": [
    {
     "name": "stdout",
     "output_type": "stream",
     "text": [
      "Model: \"sequential_2\"\n",
      "_________________________________________________________________\n",
      "Layer (type)                 Output Shape              Param #   \n",
      "=================================================================\n",
      "embedding_2 (Embedding)      (None, None, 300)         3000000   \n",
      "_________________________________________________________________\n",
      "lstm_2 (LSTM)                (None, 8)                 9888      \n",
      "_________________________________________________________________\n",
      "dropout_2 (Dropout)          (None, 8)                 0         \n",
      "_________________________________________________________________\n",
      "dense_4 (Dense)              (None, 8)                 72        \n",
      "_________________________________________________________________\n",
      "dense_5 (Dense)              (None, 1)                 9         \n",
      "=================================================================\n",
      "Total params: 3,009,969\n",
      "Trainable params: 3,009,969\n",
      "Non-trainable params: 0\n",
      "_________________________________________________________________\n"
     ]
    }
   ],
   "source": [
    "vocab_size = 10000    # 어휘 사전의 크기입니다(10,000개의 단어)\n",
    "word_vector_dim = 300  # 워드 벡터의 차원 수 (변경 가능한 하이퍼파라미터)\n",
    "\n",
    "# model 설계 - 딥러닝 모델 코드를 직접 작성해 주세요.\n",
    "model_drop = keras.Sequential()\n",
    "model_drop.add(keras.layers.Embedding(vocab_size, word_vector_dim, input_shape=(None,)))\n",
    "model_drop.add(keras.layers.LSTM(8)) \n",
    "model_drop.add(keras.layers.Dropout(0.4))\n",
    "model_drop.add(keras.layers.Dense(8, activation='relu'))\n",
    "model_drop.add(keras.layers.Dense(1, activation='sigmoid'))  # 최종 출력은 긍정/부정을 나타내는 1dim 입니다.\n",
    "\n",
    "model_drop.summary()"
   ]
  },
  {
   "cell_type": "code",
   "execution_count": 29,
   "id": "incredible-copper",
   "metadata": {},
   "outputs": [
    {
     "name": "stdout",
     "output_type": "stream",
     "text": [
      "Epoch 1/10\n",
      "215/215 [==============================] - 11s 42ms/step - loss: 0.6714 - accuracy: 0.5483 - val_loss: 0.4481 - val_accuracy: 0.8136\n",
      "Epoch 2/10\n",
      "215/215 [==============================] - 8s 39ms/step - loss: 0.4232 - accuracy: 0.8269 - val_loss: 0.3542 - val_accuracy: 0.8473\n",
      "Epoch 3/10\n",
      "215/215 [==============================] - 9s 40ms/step - loss: 0.3333 - accuracy: 0.8669 - val_loss: 0.3544 - val_accuracy: 0.8476\n",
      "Epoch 4/10\n",
      "215/215 [==============================] - 9s 40ms/step - loss: 0.3041 - accuracy: 0.8779 - val_loss: 0.3481 - val_accuracy: 0.8516\n",
      "Epoch 5/10\n",
      "215/215 [==============================] - 9s 40ms/step - loss: 0.2731 - accuracy: 0.8920 - val_loss: 0.3577 - val_accuracy: 0.8530\n",
      "Epoch 6/10\n",
      "215/215 [==============================] - 9s 40ms/step - loss: 0.2446 - accuracy: 0.9028 - val_loss: 0.3602 - val_accuracy: 0.8540\n",
      "Epoch 7/10\n",
      "215/215 [==============================] - 9s 40ms/step - loss: 0.2230 - accuracy: 0.9130 - val_loss: 0.3767 - val_accuracy: 0.8544\n",
      "Epoch 8/10\n",
      "215/215 [==============================] - 9s 40ms/step - loss: 0.2014 - accuracy: 0.9233 - val_loss: 0.3864 - val_accuracy: 0.8508\n",
      "Epoch 9/10\n",
      "215/215 [==============================] - 9s 40ms/step - loss: 0.1798 - accuracy: 0.9330 - val_loss: 0.4483 - val_accuracy: 0.8512\n",
      "Epoch 10/10\n",
      "215/215 [==============================] - 8s 39ms/step - loss: 0.1621 - accuracy: 0.9400 - val_loss: 0.4540 - val_accuracy: 0.8482\n"
     ]
    }
   ],
   "source": [
    "model_drop.compile(optimizer='adam',\n",
    "              loss='binary_crossentropy',\n",
    "              metrics=['accuracy'])\n",
    "              \n",
    "epochs=10\n",
    "\n",
    "history_drop = model_drop.fit(partial_x_train,\n",
    "                    partial_y_train,\n",
    "                    epochs=epochs,\n",
    "                    batch_size=512,\n",
    "                    validation_data=(x_val, y_val),\n",
    "                    verbose=1)"
   ]
  },
  {
   "cell_type": "code",
   "execution_count": 30,
   "id": "charming-picking",
   "metadata": {},
   "outputs": [
    {
     "name": "stdout",
     "output_type": "stream",
     "text": [
      "1537/1537 - 5s - loss: 0.4620 - accuracy: 0.8447\n",
      "[0.4619992673397064, 0.8447423577308655]\n"
     ]
    }
   ],
   "source": [
    "results_drop = model_drop.evaluate(x_test,  y_test, verbose=2)\n",
    "\n",
    "print(results_drop)"
   ]
  },
  {
   "cell_type": "code",
   "execution_count": 31,
   "id": "invisible-skirt",
   "metadata": {},
   "outputs": [
    {
     "name": "stdout",
     "output_type": "stream",
     "text": [
      "dict_keys(['loss', 'accuracy', 'val_loss', 'val_accuracy'])\n"
     ]
    }
   ],
   "source": [
    "history_dict_drop = history_drop.history\n",
    "print(history_dict_drop.keys()) # epoch에 따른 그래프를 그려볼 수 있는 항목들"
   ]
  },
  {
   "cell_type": "code",
   "execution_count": 32,
   "id": "sought-sugar",
   "metadata": {},
   "outputs": [
    {
     "data": {
      "image/png": "[encoded data removed]",
      "text/plain": [
       "<Figure size 432x288 with 1 Axes>"
      ]
     },
     "metadata": {
      "needs_background": "light"
     },
     "output_type": "display_data"
    }
   ],
   "source": [
    "acc = history_dict_drop['accuracy']\n",
    "val_acc = history_dict_drop['val_accuracy']\n",
    "loss = history_dict_drop['loss']\n",
    "val_loss = history_dict_drop['val_loss']\n",
    "\n",
    "epochs = range(1, len(acc) + 1)\n",
    "\n",
    "# \"bo\"는 \"파란색 점\"입니다\n",
    "plt.plot(epochs, loss, 'bo', label='Training loss')\n",
    "# b는 \"파란 실선\"입니다\n",
    "plt.plot(epochs, val_loss, 'b', label='Validation loss')\n",
    "plt.title('Training and validation loss')\n",
    "plt.xlabel('Epochs')\n",
    "plt.ylabel('Loss')\n",
    "plt.legend()\n",
    "\n",
    "plt.show()"
   ]
  },
  {
   "cell_type": "code",
   "execution_count": 33,
   "id": "computational-castle",
   "metadata": {},
   "outputs": [
    {
     "data": {
      "image/png": "[encoded data removed]",
      "text/plain": [
       "<Figure size 432x288 with 1 Axes>"
      ]
     },
     "metadata": {
      "needs_background": "light"
     },
     "output_type": "display_data"
    }
   ],
   "source": [
    "plt.clf()   # 그림을 초기화합니다\n",
    "\n",
    "plt.plot(epochs, acc, 'bo', label='Training acc')\n",
    "plt.plot(epochs, val_acc, 'b', label='Validation acc')\n",
    "plt.title('Training and validation accuracy')\n",
    "plt.xlabel('Epochs')\n",
    "plt.ylabel('Accuracy')\n",
    "plt.legend()\n",
    "\n",
    "plt.show()"
   ]
  },
  {
   "cell_type": "markdown",
   "id": "considered-frontier",
   "metadata": {},
   "source": [
    "> dropout layer를 임베딩 레이어 직후에 넣으니까 test acc 성능이 매우 안좋았다."
   ]
  },
  {
   "cell_type": "markdown",
   "id": "retired-hostel",
   "metadata": {},
   "source": [
    "## 8) 한국어 Word2Vec 임베딩 활용하여 성능개선"
   ]
  },
  {
   "cell_type": "markdown",
   "id": "backed-cloud",
   "metadata": {},
   "source": [
    "- 사전에 학습된 Word2Vec 임베딩 모델을 활용하는 전이학습을 사용한 이뉴는 광범위한 데이터를 통해 미리\n",
    "  학습해놓은 임베딩 속에 녹아있는 정보를 사용하면 훨씩 빠르고 정확하게 학습할 수 있기 때문에,\n",
    "  한국어 Word2Vec 임베딩 모델을 사용해보자."
   ]
  },
  {
   "cell_type": "code",
   "execution_count": 13,
   "id": "surface-fight",
   "metadata": {},
   "outputs": [
    {
     "name": "stdout",
     "output_type": "stream",
     "text": [
      "3.8.3\n"
     ]
    },
    {
     "name": "stderr",
     "output_type": "stream",
     "text": [
      "/opt/conda/lib/python3.7/site-packages/ipykernel_launcher.py:10: DeprecationWarning: Call to deprecated `__getitem__` (Method will be removed in 4.0.0, use self.wv.__getitem__() instead).\n",
      "  # Remove the CWD from sys.path while we load stuff.\n"
     ]
    },
    {
     "data": {
      "text/plain": [
       "array([-1.517628  , -0.8935504 , -1.4352998 ,  1.5069847 , -1.5178334 ,\n",
       "        1.1542678 , -2.94064   ,  1.1850045 ,  0.19959009, -1.5288961 ,\n",
       "       -1.7067502 , -2.1892095 , -0.20728938, -2.2606812 , -2.2283888 ,\n",
       "        0.32318738, -0.2845471 , -0.07731772, -0.86269003, -1.1722927 ,\n",
       "       -0.91062415,  0.8440715 ,  0.903278  , -0.84685427,  0.7023384 ,\n",
       "       -2.1920419 , -0.47571626, -0.60159504, -0.68860835,  0.18944737,\n",
       "        0.5319404 ,  0.73058116, -0.9658133 , -1.0123725 , -0.36183038,\n",
       "        2.5851305 ,  0.66589296, -1.7231252 ,  1.7576753 ,  0.88845277,\n",
       "        1.5791365 , -4.430691  ,  0.36731872,  0.69481534, -0.46041563,\n",
       "        1.742655  , -1.5077016 ,  0.72209424, -0.04532204, -0.6557301 ,\n",
       "       -0.71276623,  0.26522732, -0.17656395, -2.4720876 , -0.845565  ,\n",
       "        0.23591152,  1.3414925 ,  0.77577615, -2.289371  , -0.8078124 ,\n",
       "        1.4359473 ,  0.22882733, -1.08867   ,  1.2607764 , -1.7469797 ,\n",
       "        0.06542054,  0.39896825, -0.3160832 , -1.7257563 ,  0.54638785,\n",
       "       -0.31753907, -0.48656994, -0.8225613 , -0.573065  ,  0.13175343,\n",
       "       -0.3924169 ,  0.55588305, -1.0773534 ,  0.55159163,  0.1352609 ,\n",
       "        0.88245326, -1.0127378 ,  0.14704451, -0.5254349 , -3.401769  ,\n",
       "       -0.42525592,  2.0031376 ,  0.36679608, -1.0043006 ,  1.3084906 ,\n",
       "        0.66252464, -0.48564675,  1.1390634 , -0.61399025, -0.50669813,\n",
       "        2.984564  ,  1.126494  ,  0.68590933, -0.2439008 , -1.317931  ,\n",
       "        0.826134  , -0.3985872 ,  0.509279  , -2.7423162 ,  2.1723568 ,\n",
       "        0.02191449, -0.16062206, -0.14502135, -0.32332814, -1.7890338 ,\n",
       "        1.8245052 , -1.3794106 ,  0.4879299 , -1.4982558 , -1.2389678 ,\n",
       "        1.1795257 , -1.54579   ,  0.07694028,  0.44653377,  0.27894926,\n",
       "       -1.9621123 ,  0.6149733 , -0.41162157, -1.0487087 , -1.7935017 ,\n",
       "        0.31845954,  0.14684801, -0.49587062,  1.6319822 ,  0.39944446,\n",
       "        0.434382  , -1.1794649 , -2.5206347 ,  0.6408292 , -0.62896025,\n",
       "        1.9872422 ,  1.2521076 , -0.21406372,  1.6773093 , -1.6608806 ,\n",
       "       -0.33801398, -0.88510543,  0.1943094 , -1.7670768 , -0.39440864,\n",
       "        1.5270631 , -1.1952105 , -0.60033166,  1.0510954 , -1.4626403 ,\n",
       "       -1.517039  ,  0.59476143,  0.36977595, -1.4121546 , -0.21997249,\n",
       "       -1.0658429 , -0.17150132,  0.8064618 ,  0.5093993 , -0.74832773,\n",
       "        1.2333933 , -1.9864655 , -0.8474578 , -1.1405545 , -3.6550071 ,\n",
       "       -1.556984  ,  1.8270527 ,  1.3725282 , -1.2329742 , -0.09723412,\n",
       "        0.34405386,  0.11565362, -0.9567215 ,  1.4773479 ,  2.169166  ,\n",
       "       -0.26613593, -1.4810696 ,  3.1457973 , -0.4415616 , -1.1940637 ,\n",
       "       -0.09637992, -0.05768079,  0.6716703 , -0.21914895,  0.56199044,\n",
       "       -1.129858  , -0.7972026 ,  0.73576796,  0.22356483,  0.9140782 ,\n",
       "       -1.4168789 ,  0.15810002, -0.79947495, -1.0691265 ,  1.4587201 ,\n",
       "       -0.5216996 ,  1.1812991 ,  0.37763026,  1.3513768 , -0.4241938 ],\n",
       "      dtype=float32)"
      ]
     },
     "execution_count": 13,
     "metadata": {},
     "output_type": "execute_result"
    }
   ],
   "source": [
    "from gensim.models import KeyedVectors\n",
    "import gensim\n",
    "\n",
    "print(gensim.__version__)\n",
    "\n",
    "word2vec_path = os.getenv('HOME')+'/aiffel/sentiment_classification/data/ko.bin'\n",
    "\n",
    "word2vec = gensim.models.Word2Vec.load(word2vec_path)\n",
    "\n",
    "vector = word2vec['컴퓨터']\n",
    "vector"
   ]
  },
  {
   "cell_type": "code",
   "execution_count": 14,
   "id": "formal-buffer",
   "metadata": {},
   "outputs": [
    {
     "name": "stderr",
     "output_type": "stream",
     "text": [
      "/opt/conda/lib/python3.7/site-packages/ipykernel_launcher.py:1: DeprecationWarning: Call to deprecated `similar_by_word` (Method will be removed in 4.0.0, use self.wv.similar_by_word() instead).\n",
      "  \"\"\"Entry point for launching an IPython kernel.\n"
     ]
    },
    {
     "data": {
      "text/plain": [
       "[('전문직', 0.7164889574050903),\n",
       " ('직종', 0.6679812669754028),\n",
       " ('취업', 0.6223794221878052),\n",
       " ('직업인', 0.6074769496917725),\n",
       " ('직장', 0.5814609527587891),\n",
       " ('자격증', 0.5592581629753113),\n",
       " ('사무직', 0.549869179725647),\n",
       " ('성별', 0.5446053743362427),\n",
       " ('자질', 0.536906361579895),\n",
       " ('직장인', 0.5329881906509399)]"
      ]
     },
     "execution_count": 14,
     "metadata": {},
     "output_type": "execute_result"
    }
   ],
   "source": [
    "word2vec.similar_by_word(\"직업\")"
   ]
  },
  {
   "cell_type": "code",
   "execution_count": 18,
   "id": "rocky-louisiana",
   "metadata": {},
   "outputs": [
    {
     "name": "stderr",
     "output_type": "stream",
     "text": [
      "/opt/conda/lib/python3.7/site-packages/ipykernel_launcher.py:7: DeprecationWarning: Call to deprecated `__contains__` (Method will be removed in 4.0.0, use self.wv.__contains__() instead).\n",
      "  import sys\n",
      "/opt/conda/lib/python3.7/site-packages/ipykernel_launcher.py:8: DeprecationWarning: Call to deprecated `__getitem__` (Method will be removed in 4.0.0, use self.wv.__getitem__() instead).\n",
      "  \n"
     ]
    }
   ],
   "source": [
    "vocab_size = 10000    # 어휘 사전의 크기입니다(10,000개의 단어)\n",
    "word_vector_dim = 200  # 워드 벡터의 차원수\n",
    "embedding_matrix = np.random.rand(vocab_size, word_vector_dim)\n",
    "\n",
    "# embedding_matrix에 Word2Vec 워드 벡터를 단어 하나씩마다 차례차례 카피한다.\n",
    "for i in range(4,vocab_size):\n",
    "    if index_to_word[i] in word2vec:\n",
    "        embedding_matrix[i] = word2vec[index_to_word[i]]"
   ]
  },
  {
   "cell_type": "code",
   "execution_count": 19,
   "id": "continuous-advisory",
   "metadata": {},
   "outputs": [
    {
     "name": "stdout",
     "output_type": "stream",
     "text": [
      "Model: \"sequential_1\"\n",
      "_________________________________________________________________\n",
      "Layer (type)                 Output Shape              Param #   \n",
      "=================================================================\n",
      "embedding_1 (Embedding)      (None, 41, 200)           2000000   \n",
      "_________________________________________________________________\n",
      "lstm_1 (LSTM)                (None, 8)                 6688      \n",
      "_________________________________________________________________\n",
      "dense_2 (Dense)              (None, 8)                 72        \n",
      "_________________________________________________________________\n",
      "dense_3 (Dense)              (None, 1)                 9         \n",
      "=================================================================\n",
      "Total params: 2,006,769\n",
      "Trainable params: 2,006,769\n",
      "Non-trainable params: 0\n",
      "_________________________________________________________________\n"
     ]
    }
   ],
   "source": [
    "from tensorflow.keras.initializers import Constant\n",
    "\n",
    "vocab_size = 10000    # 어휘 사전의 크기입니다(10,000개의 단어)\n",
    "word_vector_dim = 200  # 워드 벡터의 차원 수 \n",
    "\n",
    "# 모델 구성\n",
    "model_gen1 = keras.Sequential()\n",
    "model_gen1.add(keras.layers.Embedding(vocab_size, \n",
    "                                 word_vector_dim, \n",
    "                                 embeddings_initializer=Constant(embedding_matrix),  # 카피한 임베딩을 여기서 활용\n",
    "                                 input_length=maxlen, \n",
    "                                 trainable=True))   # trainable을 True로 주면 Fine-tuning\n",
    "model_gen1.add(keras.layers.LSTM(8)) \n",
    "model_gen1.add(keras.layers.Dense(8, activation='relu'))\n",
    "model_gen1.add(keras.layers.Dense(1, activation='sigmoid'))  # 최종 출력은 긍정/부정을 나타내는 1dim 입니다.\n",
    "\n",
    "model_gen1.summary()"
   ]
  },
  {
   "cell_type": "code",
   "execution_count": 20,
   "id": "current-feelings",
   "metadata": {},
   "outputs": [
    {
     "name": "stdout",
     "output_type": "stream",
     "text": [
      "Epoch 1/10\n",
      "215/215 [==============================] - 8s 31ms/step - loss: 0.6772 - accuracy: 0.5482 - val_loss: 0.4804 - val_accuracy: 0.7922\n",
      "Epoch 2/10\n",
      "215/215 [==============================] - 6s 29ms/step - loss: 0.4305 - accuracy: 0.8173 - val_loss: 0.3822 - val_accuracy: 0.8335\n",
      "Epoch 3/10\n",
      "215/215 [==============================] - 6s 29ms/step - loss: 0.3432 - accuracy: 0.8587 - val_loss: 0.3582 - val_accuracy: 0.8450\n",
      "Epoch 4/10\n",
      "215/215 [==============================] - 6s 29ms/step - loss: 0.3107 - accuracy: 0.8731 - val_loss: 0.3549 - val_accuracy: 0.8481\n",
      "Epoch 5/10\n",
      "215/215 [==============================] - 6s 30ms/step - loss: 0.2928 - accuracy: 0.8822 - val_loss: 0.3557 - val_accuracy: 0.8482\n",
      "Epoch 6/10\n",
      "215/215 [==============================] - 6s 29ms/step - loss: 0.2784 - accuracy: 0.8891 - val_loss: 0.3578 - val_accuracy: 0.8479\n",
      "Epoch 7/10\n",
      "215/215 [==============================] - 6s 29ms/step - loss: 0.2668 - accuracy: 0.8948 - val_loss: 0.3627 - val_accuracy: 0.8480\n",
      "Epoch 8/10\n",
      "215/215 [==============================] - 6s 29ms/step - loss: 0.2583 - accuracy: 0.8980 - val_loss: 0.3676 - val_accuracy: 0.8493\n",
      "Epoch 9/10\n",
      "215/215 [==============================] - 6s 29ms/step - loss: 0.2436 - accuracy: 0.9054 - val_loss: 0.3761 - val_accuracy: 0.8458\n",
      "Epoch 10/10\n",
      "215/215 [==============================] - 6s 29ms/step - loss: 0.2368 - accuracy: 0.9098 - val_loss: 0.3851 - val_accuracy: 0.8443\n"
     ]
    }
   ],
   "source": [
    "model_gen1.compile(optimizer='adam',\n",
    "              loss='binary_crossentropy',\n",
    "              metrics=['accuracy'])\n",
    "              \n",
    "epochs=10  # 몇 epoch를 훈련하면 좋을지 결과를 보면서 바꾸어 봅시다. \n",
    "\n",
    "history_gen1 = model_gen1.fit(partial_x_train,\n",
    "                    partial_y_train,\n",
    "                    epochs=epochs,\n",
    "                    batch_size=512,\n",
    "                    validation_data=(x_val, y_val),\n",
    "                    verbose=1)"
   ]
  },
  {
   "cell_type": "code",
   "execution_count": 21,
   "id": "crucial-gamma",
   "metadata": {},
   "outputs": [
    {
     "name": "stdout",
     "output_type": "stream",
     "text": [
      "1537/1537 - 5s - loss: 0.3917 - accuracy: 0.8430\n",
      "[0.39166492223739624, 0.8430132269859314]\n"
     ]
    }
   ],
   "source": [
    "results_gen1 = model_gen1.evaluate(x_test,  y_test, verbose=2)\n",
    "\n",
    "print(results_gen1)"
   ]
  },
  {
   "cell_type": "markdown",
   "id": "basic-devil",
   "metadata": {},
   "source": [
    "워드 임베딩을 사용해서 성능을 개선해보려 했지만 큰 변화가없었다.   \n",
    "이번에는 위에서 시도해본 dropout layer를 추가해보려한다."
   ]
  },
  {
   "cell_type": "markdown",
   "id": "headed-heather",
   "metadata": {},
   "source": [
    "### 8-2) Word2Vec 임베딩모델에 dropout 추가"
   ]
  },
  {
   "cell_type": "code",
   "execution_count": 192,
   "id": "valued-remark",
   "metadata": {},
   "outputs": [
    {
     "name": "stdout",
     "output_type": "stream",
     "text": [
      "Model: \"sequential_30\"\n",
      "_________________________________________________________________\n",
      "Layer (type)                 Output Shape              Param #   \n",
      "=================================================================\n",
      "embedding_30 (Embedding)     (None, 41, 200)           2000000   \n",
      "_________________________________________________________________\n",
      "lstm_21 (LSTM)               (None, 8)                 6688      \n",
      "_________________________________________________________________\n",
      "dropout (Dropout)            (None, 8)                 0         \n",
      "_________________________________________________________________\n",
      "dense_56 (Dense)             (None, 8)                 72        \n",
      "_________________________________________________________________\n",
      "dense_57 (Dense)             (None, 1)                 9         \n",
      "=================================================================\n",
      "Total params: 2,006,769\n",
      "Trainable params: 2,006,769\n",
      "Non-trainable params: 0\n",
      "_________________________________________________________________\n"
     ]
    }
   ],
   "source": [
    "from tensorflow.keras.initializers import Constant\n",
    "\n",
    "vocab_size = 10000    # 어휘 사전의 크기입니다(10,000개의 단어)\n",
    "word_vector_dim = 200  # 워드 벡터의 차원 수 \n",
    "\n",
    "# 모델 구성\n",
    "model_gen = keras.Sequential()\n",
    "model_gen.add(keras.layers.Embedding(vocab_size, \n",
    "                                 word_vector_dim, \n",
    "                                 embeddings_initializer=Constant(embedding_matrix),  # 카피한 임베딩을 여기서 활용\n",
    "                                 input_length=maxlen, \n",
    "                                 trainable=True))   # trainable을 True로 주면 Fine-tuning\n",
    "model_gen.add(keras.layers.LSTM(8)) \n",
    "model_gen.add(keras.layers.Dropout(0.4))\n",
    "model_gen.add(keras.layers.Dense(8, activation='relu'))\n",
    "model_gen.add(keras.layers.Dense(1, activation='sigmoid'))  # 최종 출력은 긍정/부정을 나타내는 1dim 입니다.\n",
    "\n",
    "model_gen.summary()"
   ]
  },
  {
   "cell_type": "code",
   "execution_count": 193,
   "id": "sitting-minimum",
   "metadata": {},
   "outputs": [
    {
     "name": "stdout",
     "output_type": "stream",
     "text": [
      "Epoch 1/10\n",
      "215/215 [==============================] - 9s 32ms/step - loss: 0.6953 - accuracy: 0.5010 - val_loss: 0.6924 - val_accuracy: 0.5080\n",
      "Epoch 2/10\n",
      "215/215 [==============================] - 6s 30ms/step - loss: 0.6920 - accuracy: 0.5039 - val_loss: 0.6027 - val_accuracy: 0.6906\n",
      "Epoch 3/10\n",
      "215/215 [==============================] - 7s 30ms/step - loss: 0.5402 - accuracy: 0.7368 - val_loss: 0.4051 - val_accuracy: 0.8235\n",
      "Epoch 4/10\n",
      "215/215 [==============================] - 6s 30ms/step - loss: 0.3889 - accuracy: 0.8397 - val_loss: 0.3570 - val_accuracy: 0.8494\n",
      "Epoch 5/10\n",
      "215/215 [==============================] - 6s 30ms/step - loss: 0.3379 - accuracy: 0.8664 - val_loss: 0.3493 - val_accuracy: 0.8530\n",
      "Epoch 6/10\n",
      "215/215 [==============================] - 6s 30ms/step - loss: 0.3140 - accuracy: 0.8815 - val_loss: 0.3625 - val_accuracy: 0.8462\n",
      "Epoch 7/10\n",
      "215/215 [==============================] - 6s 30ms/step - loss: 0.2999 - accuracy: 0.8860 - val_loss: 0.3506 - val_accuracy: 0.8531\n",
      "Epoch 8/10\n",
      "215/215 [==============================] - 6s 30ms/step - loss: 0.2792 - accuracy: 0.8992 - val_loss: 0.3580 - val_accuracy: 0.8550\n",
      "Epoch 9/10\n",
      "215/215 [==============================] - 6s 30ms/step - loss: 0.2672 - accuracy: 0.9041 - val_loss: 0.3542 - val_accuracy: 0.8536\n",
      "Epoch 10/10\n",
      "215/215 [==============================] - 6s 30ms/step - loss: 0.2556 - accuracy: 0.9088 - val_loss: 0.3590 - val_accuracy: 0.8551\n"
     ]
    }
   ],
   "source": [
    "model_gen.compile(optimizer='adam',\n",
    "              loss='binary_crossentropy',\n",
    "              metrics=['accuracy'])\n",
    "              \n",
    "epochs=10  # 몇 epoch를 훈련하면 좋을지 결과를 보면서 바꾸어 봅시다. \n",
    "\n",
    "history_gen = model_gen.fit(partial_x_train,\n",
    "                    partial_y_train,\n",
    "                    epochs=epochs,\n",
    "                    batch_size=512,\n",
    "                    validation_data=(x_val, y_val),\n",
    "                    verbose=1)"
   ]
  },
  {
   "cell_type": "code",
   "execution_count": 194,
   "id": "gorgeous-defense",
   "metadata": {},
   "outputs": [
    {
     "name": "stdout",
     "output_type": "stream",
     "text": [
      "1537/1537 - 5s - loss: 0.3659 - accuracy: 0.8513\n",
      "[0.36587464809417725, 0.8513131141662598]\n"
     ]
    }
   ],
   "source": [
    "results_gen = model_gen.evaluate(x_test,  y_test, verbose=2)\n",
    "\n",
    "print(results_gen)"
   ]
  },
  {
   "cell_type": "code",
   "execution_count": 195,
   "id": "removed-budget",
   "metadata": {},
   "outputs": [
    {
     "name": "stdout",
     "output_type": "stream",
     "text": [
      "dict_keys(['loss', 'accuracy', 'val_loss', 'val_accuracy'])\n"
     ]
    }
   ],
   "source": [
    "history_dict_gen = history_gen.history\n",
    "print(history_dict_gen.keys()) # epoch에 따른 그래프를 그려볼 수 있는 항목들"
   ]
  },
  {
   "cell_type": "code",
   "execution_count": 196,
   "id": "extended-portsmouth",
   "metadata": {},
   "outputs": [
    {
     "data": {
      "image/png": "[encoded data removed]",
      "text/plain": [
       "<Figure size 432x288 with 1 Axes>"
      ]
     },
     "metadata": {
      "needs_background": "light"
     },
     "output_type": "display_data"
    }
   ],
   "source": [
    "acc = history_dict_gen['accuracy']\n",
    "val_acc = history_dict_gen['val_accuracy']\n",
    "loss = history_dict_gen['loss']\n",
    "val_loss = history_dict_gen['val_loss']\n",
    "\n",
    "epochs = range(1, len(acc) + 1)\n",
    "\n",
    "# \"bo\"는 \"파란색 점\"입니다\n",
    "plt.plot(epochs, loss, 'bo', label='Training loss')\n",
    "# b는 \"파란 실선\"입니다\n",
    "plt.plot(epochs, val_loss, 'b', label='Validation loss')\n",
    "plt.title('Training and validation loss')\n",
    "plt.xlabel('Epochs')\n",
    "plt.ylabel('Loss')\n",
    "plt.legend()\n",
    "\n",
    "plt.show()"
   ]
  },
  {
   "cell_type": "code",
   "execution_count": 197,
   "id": "isolated-dividend",
   "metadata": {},
   "outputs": [
    {
     "data": {
      "image/png": "[encoded data removed]",
      "text/plain": [
       "<Figure size 432x288 with 1 Axes>"
      ]
     },
     "metadata": {
      "needs_background": "light"
     },
     "output_type": "display_data"
    }
   ],
   "source": [
    "plt.clf()   # 그림을 초기화합니다\n",
    "\n",
    "plt.plot(epochs, acc, 'bo', label='Training acc')\n",
    "plt.plot(epochs, val_acc, 'b', label='Validation acc')\n",
    "plt.title('Training and validation accuracy')\n",
    "plt.xlabel('Epochs')\n",
    "plt.ylabel('Accuracy')\n",
    "plt.legend()\n",
    "\n",
    "plt.show()"
   ]
  },
  {
   "cell_type": "markdown",
   "id": "stylish-dylan",
   "metadata": {},
   "source": [
    "dropout layer를 적용하니 과적합이 줄은 모습을 그래프로 확인할 수 있었다.    \n",
    "acc도 85.1%로 위에서 시도해본 모델보다 개선된 모습을 보였다."
   ]
  },
  {
   "cell_type": "markdown",
   "id": "sublime-crisis",
   "metadata": {},
   "source": [
    "## 회고"
   ]
  },
  {
   "cell_type": "markdown",
   "id": "convenient-clothing",
   "metadata": {},
   "source": [
    "> - overfitting(과적함)은 기계학습에서 학습 데이터를 과하게 학습하는것을 뜻한다. 너무 세밀하게 학습 데이터 하나하나를 다 설명하려고 하다보니 정작 중요한 패턴을 설명할 수 없게 되는 현상\n",
    "> - embedding vector란 단어의 의미를 다차원 공간에 벡처화 하는방법을 분산표현이라고도 하며 분산표현을 이용해 단어의 유사도를 벡터화 하는\n",
    "작업은 워드 임베딩작업에 속하기 때문에 이렇게 표현된 벡터 또한 임베딩 벡터라고 한다.\n",
    "> - embedding vector가 너무 작으면 acc가 떨어졌다. 적당한 vector size가 필요했었다.\n",
    "> - 처음에 epoch값을 크게주어 학습횟수가 많았을때 그래프상으로 train그래프와 validation 그래프가 점점 멀어지는 선을 그렸다. 과한 epoch는   acc를 떨어트렸다.\n",
    "> - dropout을 추가를 안했을때는 acc, loss그래프가 튀는 모습을 볼 수 있었다. 추가를 했을때는 오버피팅을 방지하는 모습을 볼 수 있었다. 과한 dropout은 좋지 않았다."
   ]
  }
 ],
 "metadata": {
  "kernelspec": {
   "display_name": "Python 3",
   "language": "python",
   "name": "python3"
  },
  "language_info": {
   "codemirror_mode": {
    "name": "ipython",
    "version": 3
   },
   "file_extension": ".py",
   "mimetype": "text/x-python",
   "name": "python",
   "nbconvert_exporter": "python",
   "pygments_lexer": "ipython3",
   "version": "3.7.9"
  }
 },
 "nbformat": 4,
 "nbformat_minor": 5
}
