{
 "cells": [
  {
   "cell_type": "markdown",
   "id": "sound-concentrate",
   "metadata": {},
   "source": [
    "# EX10. 뉴스기사 요약해보기"
   ]
  },
  {
   "cell_type": "markdown",
   "id": "reported-lawrence",
   "metadata": {},
   "source": [
    "## Step 1. 데이터 수집하기"
   ]
  },
  {
   "cell_type": "code",
   "execution_count": 2,
   "id": "nonprofit-guidance",
   "metadata": {},
   "outputs": [
    {
     "name": "stderr",
     "output_type": "stream",
     "text": [
      "[nltk_data] Downloading package stopwords to /aiffel/nltk_data...\n",
      "[nltk_data]   Unzipping corpora/stopwords.zip.\n"
     ]
    }
   ],
   "source": [
    "import nltk\n",
    "nltk.download('stopwords')\n",
    "\n",
    "import numpy as np\n",
    "import pandas as pd\n",
    "import os\n",
    "import re\n",
    "import matplotlib.pyplot as plt\n",
    "from nltk.corpus import stopwords\n",
    "from bs4 import BeautifulSoup \n",
    "from tensorflow.keras.preprocessing.text import Tokenizer \n",
    "from tensorflow.keras.preprocessing.sequence import pad_sequences\n",
    "import urllib.request"
   ]
  },
  {
   "cell_type": "code",
   "execution_count": 3,
   "id": "immune-solution",
   "metadata": {},
   "outputs": [],
   "source": [
    "import urllib.request\n",
    "urllib.request.urlretrieve(\"https://raw.githubusercontent.com/sunnysai12345/News_Summary/master/news_summary_more.csv\", filename=\"news_summary_more.csv\")\n",
    "data = pd.read_csv('news_summary_more.csv', encoding='iso-8859-1')"
   ]
  },
  {
   "cell_type": "code",
   "execution_count": 4,
   "id": "bearing-saskatchewan",
   "metadata": {},
   "outputs": [
    {
     "data": {
      "text/html": [
       "<div>\n",
       "<style scoped>\n",
       "    .dataframe tbody tr th:only-of-type {\n",
       "        vertical-align: middle;\n",
       "    }\n",
       "\n",
       "    .dataframe tbody tr th {\n",
       "        vertical-align: top;\n",
       "    }\n",
       "\n",
       "    .dataframe thead th {\n",
       "        text-align: right;\n",
       "    }\n",
       "</style>\n",
       "<table border=\"1\" class=\"dataframe\">\n",
       "  <thead>\n",
       "    <tr style=\"text-align: right;\">\n",
       "      <th></th>\n",
       "      <th>headlines</th>\n",
       "      <th>text</th>\n",
       "    </tr>\n",
       "  </thead>\n",
       "  <tbody>\n",
       "    <tr>\n",
       "      <th>2800</th>\n",
       "      <td>Snapdeal to face prosecution in K'taka for ill...</td>\n",
       "      <td>Karnataka government has permitted authorities...</td>\n",
       "    </tr>\n",
       "    <tr>\n",
       "      <th>81661</th>\n",
       "      <td>I can't be as bindaas as my father Jackie Shro...</td>\n",
       "      <td>Actor Tiger Shroff has said that while his fat...</td>\n",
       "    </tr>\n",
       "    <tr>\n",
       "      <th>24258</th>\n",
       "      <td>Policeman mistakes cycling champ for fan, knoc...</td>\n",
       "      <td>Reigning champion Chris Froome was knocked off...</td>\n",
       "    </tr>\n",
       "    <tr>\n",
       "      <th>30820</th>\n",
       "      <td>Smart radar startup MetaWave raises $10 million</td>\n",
       "      <td>US-based smart radar startup MetaWave has rais...</td>\n",
       "    </tr>\n",
       "    <tr>\n",
       "      <th>35157</th>\n",
       "      <td>Ex-FBI chief's book 'poorly executed PR stunt'...</td>\n",
       "      <td>Slamming former FBI Director James Comey over ...</td>\n",
       "    </tr>\n",
       "    <tr>\n",
       "      <th>91450</th>\n",
       "      <td>India successfully test fires Agni-III ballist...</td>\n",
       "      <td>India successfully test-fired its surface-to-s...</td>\n",
       "    </tr>\n",
       "    <tr>\n",
       "      <th>91221</th>\n",
       "      <td>Indian-American jailed for over 5 yrs, loses U...</td>\n",
       "      <td>An Indian-American man lost his American citiz...</td>\n",
       "    </tr>\n",
       "    <tr>\n",
       "      <th>52976</th>\n",
       "      <td>World Bank projects growth rate of 7.3% for In...</td>\n",
       "      <td>The World Bank has projected India's GDP growt...</td>\n",
       "    </tr>\n",
       "    <tr>\n",
       "      <th>60585</th>\n",
       "      <td>Want seven children and seven Ballon d'Or awar...</td>\n",
       "      <td>Following the birth of his fourth child, Real ...</td>\n",
       "    </tr>\n",
       "    <tr>\n",
       "      <th>10187</th>\n",
       "      <td>Kohli, Rohit gave me freedom to express myself...</td>\n",
       "      <td>Indian pacer Khaleel Ahmed, who has made nine ...</td>\n",
       "    </tr>\n",
       "  </tbody>\n",
       "</table>\n",
       "</div>"
      ],
      "text/plain": [
       "                                               headlines  \\\n",
       "2800   Snapdeal to face prosecution in K'taka for ill...   \n",
       "81661  I can't be as bindaas as my father Jackie Shro...   \n",
       "24258  Policeman mistakes cycling champ for fan, knoc...   \n",
       "30820   Smart radar startup MetaWave raises $10 million    \n",
       "35157  Ex-FBI chief's book 'poorly executed PR stunt'...   \n",
       "91450  India successfully test fires Agni-III ballist...   \n",
       "91221  Indian-American jailed for over 5 yrs, loses U...   \n",
       "52976  World Bank projects growth rate of 7.3% for In...   \n",
       "60585  Want seven children and seven Ballon d'Or awar...   \n",
       "10187  Kohli, Rohit gave me freedom to express myself...   \n",
       "\n",
       "                                                    text  \n",
       "2800   Karnataka government has permitted authorities...  \n",
       "81661  Actor Tiger Shroff has said that while his fat...  \n",
       "24258  Reigning champion Chris Froome was knocked off...  \n",
       "30820  US-based smart radar startup MetaWave has rais...  \n",
       "35157  Slamming former FBI Director James Comey over ...  \n",
       "91450  India successfully test-fired its surface-to-s...  \n",
       "91221  An Indian-American man lost his American citiz...  \n",
       "52976  The World Bank has projected India's GDP growt...  \n",
       "60585  Following the birth of his fourth child, Real ...  \n",
       "10187  Indian pacer Khaleel Ahmed, who has made nine ...  "
      ]
     },
     "execution_count": 4,
     "metadata": {},
     "output_type": "execute_result"
    }
   ],
   "source": [
    "data.sample(10)"
   ]
  },
  {
   "cell_type": "markdown",
   "id": "possible-career",
   "metadata": {},
   "source": [
    "## Step 2. 데이터 전처리하기 (추상적 요약)"
   ]
  },
  {
   "cell_type": "markdown",
   "id": "psychological-groove",
   "metadata": {},
   "source": [
    "중복된 샘플들을 제거한다."
   ]
  },
  {
   "cell_type": "code",
   "execution_count": 5,
   "id": "dried-effect",
   "metadata": {},
   "outputs": [
    {
     "name": "stdout",
     "output_type": "stream",
     "text": [
      "Text 열에서 중복을 배제한 유일한 샘플의 수 : 98360\n",
      "headlines 열에서 중복을 배제한 유일한 샘플의 수 : 98280\n"
     ]
    }
   ],
   "source": [
    "print('Text 열에서 중복을 배제한 유일한 샘플의 수 :', data['text'].nunique())\n",
    "print('headlines 열에서 중복을 배제한 유일한 샘플의 수 :', data['headlines'].nunique())"
   ]
  },
  {
   "cell_type": "code",
   "execution_count": 6,
   "id": "antique-wonder",
   "metadata": {},
   "outputs": [
    {
     "name": "stdout",
     "output_type": "stream",
     "text": [
      "전체 샘플수 : 98360\n"
     ]
    }
   ],
   "source": [
    "# inplace=True 를 설정하면 DataFrame 타입 값을 return 하지 않고 data 내부를 직접적으로 바꿉니다\n",
    "data.drop_duplicates(subset = ['text'], inplace=True)\n",
    "print('전체 샘플수 :', (len(data)))"
   ]
  },
  {
   "cell_type": "code",
   "execution_count": 7,
   "id": "norwegian-throw",
   "metadata": {},
   "outputs": [
    {
     "name": "stdout",
     "output_type": "stream",
     "text": [
      "headlines    0\n",
      "text         0\n",
      "dtype: int64\n"
     ]
    }
   ],
   "source": [
    "print(data.isnull().sum())"
   ]
  },
  {
   "cell_type": "markdown",
   "id": "occasional-sword",
   "metadata": {},
   "source": [
    "텍스트 정규화를 위해 사전을 구성한다."
   ]
  },
  {
   "cell_type": "code",
   "execution_count": 8,
   "id": "adolescent-invitation",
   "metadata": {},
   "outputs": [
    {
     "name": "stdout",
     "output_type": "stream",
     "text": [
      "정규화 사전의 수:  120\n"
     ]
    }
   ],
   "source": [
    "contractions = {\"ain't\": \"is not\", \"aren't\": \"are not\",\"can't\": \"cannot\", \"'cause\": \"because\", \"could've\": \"could have\", \"couldn't\": \"could not\",\n",
    "                           \"didn't\": \"did not\",  \"doesn't\": \"does not\", \"don't\": \"do not\", \"hadn't\": \"had not\", \"hasn't\": \"has not\", \"haven't\": \"have not\",\n",
    "                           \"he'd\": \"he would\",\"he'll\": \"he will\", \"he's\": \"he is\", \"how'd\": \"how did\", \"how'd'y\": \"how do you\", \"how'll\": \"how will\", \"how's\": \"how is\",\n",
    "                           \"I'd\": \"I would\", \"I'd've\": \"I would have\", \"I'll\": \"I will\", \"I'll've\": \"I will have\",\"I'm\": \"I am\", \"I've\": \"I have\", \"i'd\": \"i would\",\n",
    "                           \"i'd've\": \"i would have\", \"i'll\": \"i will\",  \"i'll've\": \"i will have\",\"i'm\": \"i am\", \"i've\": \"i have\", \"isn't\": \"is not\", \"it'd\": \"it would\",\n",
    "                           \"it'd've\": \"it would have\", \"it'll\": \"it will\", \"it'll've\": \"it will have\",\"it's\": \"it is\", \"let's\": \"let us\", \"ma'am\": \"madam\",\n",
    "                           \"mayn't\": \"may not\", \"might've\": \"might have\",\"mightn't\": \"might not\",\"mightn't've\": \"might not have\", \"must've\": \"must have\",\n",
    "                           \"mustn't\": \"must not\", \"mustn't've\": \"must not have\", \"needn't\": \"need not\", \"needn't've\": \"need not have\",\"o'clock\": \"of the clock\",\n",
    "                           \"oughtn't\": \"ought not\", \"oughtn't've\": \"ought not have\", \"shan't\": \"shall not\", \"sha'n't\": \"shall not\", \"shan't've\": \"shall not have\",\n",
    "                           \"she'd\": \"she would\", \"she'd've\": \"she would have\", \"she'll\": \"she will\", \"she'll've\": \"she will have\", \"she's\": \"she is\",\n",
    "                           \"should've\": \"should have\", \"shouldn't\": \"should not\", \"shouldn't've\": \"should not have\", \"so've\": \"so have\",\"so's\": \"so as\",\n",
    "                           \"this's\": \"this is\",\"that'd\": \"that would\", \"that'd've\": \"that would have\", \"that's\": \"that is\", \"there'd\": \"there would\",\n",
    "                           \"there'd've\": \"there would have\", \"there's\": \"there is\", \"here's\": \"here is\",\"they'd\": \"they would\", \"they'd've\": \"they would have\",\n",
    "                           \"they'll\": \"they will\", \"they'll've\": \"they will have\", \"they're\": \"they are\", \"they've\": \"they have\", \"to've\": \"to have\",\n",
    "                           \"wasn't\": \"was not\", \"we'd\": \"we would\", \"we'd've\": \"we would have\", \"we'll\": \"we will\", \"we'll've\": \"we will have\", \"we're\": \"we are\",\n",
    "                           \"we've\": \"we have\", \"weren't\": \"were not\", \"what'll\": \"what will\", \"what'll've\": \"what will have\", \"what're\": \"what are\",\n",
    "                           \"what's\": \"what is\", \"what've\": \"what have\", \"when's\": \"when is\", \"when've\": \"when have\", \"where'd\": \"where did\", \"where's\": \"where is\",\n",
    "                           \"where've\": \"where have\", \"who'll\": \"who will\", \"who'll've\": \"who will have\", \"who's\": \"who is\", \"who've\": \"who have\",\n",
    "                           \"why's\": \"why is\", \"why've\": \"why have\", \"will've\": \"will have\", \"won't\": \"will not\", \"won't've\": \"will not have\",\n",
    "                           \"would've\": \"would have\", \"wouldn't\": \"would not\", \"wouldn't've\": \"would not have\", \"y'all\": \"you all\",\n",
    "                           \"y'all'd\": \"you all would\",\"y'all'd've\": \"you all would have\",\"y'all're\": \"you all are\",\"y'all've\": \"you all have\",\n",
    "                           \"you'd\": \"you would\", \"you'd've\": \"you would have\", \"you'll\": \"you will\", \"you'll've\": \"you will have\",\n",
    "                           \"you're\": \"you are\", \"you've\": \"you have\"}\n",
    "\n",
    "print(\"정규화 사전의 수: \", len(contractions))"
   ]
  },
  {
   "cell_type": "code",
   "execution_count": 9,
   "id": "colonial-angle",
   "metadata": {},
   "outputs": [
    {
     "name": "stdout",
     "output_type": "stream",
     "text": [
      "불용어 개수 : 179\n",
      "['i', 'me', 'my', 'myself', 'we', 'our', 'ours', 'ourselves', 'you', \"you're\", \"you've\", \"you'll\", \"you'd\", 'your', 'yours', 'yourself', 'yourselves', 'he', 'him', 'his', 'himself', 'she', \"she's\", 'her', 'hers', 'herself', 'it', \"it's\", 'its', 'itself', 'they', 'them', 'their', 'theirs', 'themselves', 'what', 'which', 'who', 'whom', 'this', 'that', \"that'll\", 'these', 'those', 'am', 'is', 'are', 'was', 'were', 'be', 'been', 'being', 'have', 'has', 'had', 'having', 'do', 'does', 'did', 'doing', 'a', 'an', 'the', 'and', 'but', 'if', 'or', 'because', 'as', 'until', 'while', 'of', 'at', 'by', 'for', 'with', 'about', 'against', 'between', 'into', 'through', 'during', 'before', 'after', 'above', 'below', 'to', 'from', 'up', 'down', 'in', 'out', 'on', 'off', 'over', 'under', 'again', 'further', 'then', 'once', 'here', 'there', 'when', 'where', 'why', 'how', 'all', 'any', 'both', 'each', 'few', 'more', 'most', 'other', 'some', 'such', 'no', 'nor', 'not', 'only', 'own', 'same', 'so', 'than', 'too', 'very', 's', 't', 'can', 'will', 'just', 'don', \"don't\", 'should', \"should've\", 'now', 'd', 'll', 'm', 'o', 're', 've', 'y', 'ain', 'aren', \"aren't\", 'couldn', \"couldn't\", 'didn', \"didn't\", 'doesn', \"doesn't\", 'hadn', \"hadn't\", 'hasn', \"hasn't\", 'haven', \"haven't\", 'isn', \"isn't\", 'ma', 'mightn', \"mightn't\", 'mustn', \"mustn't\", 'needn', \"needn't\", 'shan', \"shan't\", 'shouldn', \"shouldn't\", 'wasn', \"wasn't\", 'weren', \"weren't\", 'won', \"won't\", 'wouldn', \"wouldn't\"]\n"
     ]
    }
   ],
   "source": [
    "print('불용어 개수 :', len(stopwords.words('english') ))\n",
    "print(stopwords.words('english'))"
   ]
  },
  {
   "cell_type": "markdown",
   "id": "systematic-guidance",
   "metadata": {},
   "source": [
    "멀티프로세싱을 사용해 text의 불용어를 제거한다."
   ]
  },
  {
   "cell_type": "code",
   "execution_count": 10,
   "id": "alternate-arctic",
   "metadata": {},
   "outputs": [],
   "source": [
    "# 데이터 전처리 함수\n",
    "def preprocess_sentence(sentence, remove_stopwords=True):\n",
    "    sentence = sentence.lower() # 텍스트 소문자화\n",
    "    sentence = BeautifulSoup(sentence, \"lxml\").text # <br />, <a href = ...> 등의 html 태그 제거\n",
    "    sentence = re.sub(r'\\([^)]*\\)', '', sentence) # 괄호로 닫힌 문자열 (...) 제거 Ex) my husband (and myself!) for => my husband for\n",
    "    sentence = re.sub('\"','', sentence) # 쌍따옴표 \" 제거\n",
    "    sentence = ' '.join([contractions[t] if t in contractions else t for t in sentence.split(\" \")]) # 약어 정규화\n",
    "    sentence = re.sub(r\"'s\\b\",\"\", sentence) # 소유격 제거. Ex) roland's -> roland\n",
    "    sentence = re.sub(\"[^a-zA-Z]\", \" \", sentence) # 영어 외 문자(숫자, 특수문자 등) 공백으로 변환\n",
    "    sentence = re.sub('[m]{2,}', 'mm', sentence) # m이 3개 이상이면 2개로 변경. Ex) ummmmmmm yeah -> umm yeah\n",
    "    \n",
    "    # 불용어 제거 (Text)\n",
    "    if remove_stopwords:\n",
    "        tokens = ' '.join(word for word in sentence.split() if not word in stopwords.words('english') if len(word) > 1)\n",
    "    # 불용어 미제거 (Summary)\n",
    "    else:\n",
    "        tokens = ' '.join(word for word in sentence.split() if len(word) > 1)\n",
    "    return tokens"
   ]
  },
  {
   "cell_type": "code",
   "execution_count": 11,
   "id": "industrial-structure",
   "metadata": {},
   "outputs": [
    {
     "name": "stdout",
     "output_type": "stream",
     "text": [
      "416.46435809135437  seconds\n",
      "['saurav kant alumnus upgrad iiit pg program machine learning artificial intelligence sr systems engineer infosys almost years work experience program upgrad degree career support helped transition data scientist tech mahindra salary hike upgrad online power learning powered lakh careers'\n",
      " 'kunal shah credit card bill payment platform cred gave users chance win free food swiggy one year pranav kaushik delhi techie bagged reward spending cred coins users get one cred coin per rupee bill paid used avail rewards brands like ixigo bookmyshow ubereats cult fit'\n",
      " 'new zealand defeated india wickets fourth odi hamilton thursday win first match five match odi series india lost international match rohit sharma captaincy consecutive victories dating back march match witnessed india getting seventh lowest total odi cricket history'\n",
      " ...\n",
      " 'according reports new version science fiction film matrix development michael jordan reportedly play lead role film screenwriter zak penn talks write script film reports added actor keanu reeves starred original film followed two sequels'\n",
      " 'new music video shows rapper snoop dogg aiming toy gun clown character parodying us president donald trump video also shows tv airing news conference headline ronald klump wants deport doggs airing live clown house video remixed version song lavender'\n",
      " 'madhesi morcha alliance seven political parties withdrawn support pm pushpa kamal dahal led nepal government failed meet seven day ultimatum fulfil demands including endorsement revised constitution amendment bill morcha seats parliament despite withdrawal support immediate threat government']\n",
      "12.307647943496704  seconds\n",
      "['upgrad learner switches to career in ml al with salary hike'\n",
      " 'delhi techie wins free food from swiggy for one year on cred'\n",
      " 'new zealand end rohit sharma led india match winning streak' ...\n",
      " 'the matrix film to get reboot reports'\n",
      " 'snoop dogg aims gun at clown dressed as trump in new video'\n",
      " 'madhesi morcha withdraws support to nepalese government']\n"
     ]
    }
   ],
   "source": [
    "import multiprocessing as mp   # 멀티 프로세싱으로 전처리 속도를 획기적으로 줄여봅시다\n",
    "from multiprocessing import Pool\n",
    "import numpy as np\n",
    "import time\n",
    "from functools import partial  # map을 할 때 함수에 여러 인자를 넣어줄 수 있도록 합니다\n",
    "\n",
    "start = time.time()\n",
    "\n",
    "# num_cores 만큼 쪼개진 데이터를 전처리하여 반환합니다\n",
    "def appendTexts(sentences, remove_stopwords):\n",
    "    texts = []\n",
    "    for s in sentences:\n",
    "        texts += preprocess_sentence(s, remove_stopwords),\n",
    "    return texts\n",
    "\n",
    "def preprocess_data(data, remove_stopwords=True):\n",
    "    start_time = time.time()\n",
    "    num_cores = mp.cpu_count()  # 컴퓨터의 코어 수를 구합니다\n",
    "    \n",
    "    text_data_split = np.array_split(data, num_cores)  # 코어 수만큼 데이터를 배분하여 병렬적으로 처리할 수 있게 합니다\n",
    "    pool = Pool(num_cores)\n",
    "\n",
    "    processed_data = np.concatenate(pool.map(partial(appendTexts, remove_stopwords=remove_stopwords), text_data_split))  # 각자 작업한 데이터를 하나로 합쳐줍니다\n",
    "    pool.close()\n",
    "    pool.join()\n",
    "    print(time.time() - start_time, \" seconds\")\n",
    "    return processed_data\n",
    "\n",
    "clean_text = preprocess_data(data['text'])  # 클라우드 기준으로 3~4분 정도 소요 됩니다\n",
    "print(clean_text)\n",
    "\n",
    "clean_headlines = preprocess_data(data['headlines'], remove_stopwords=False) # 클라우드 기준 1분정도 소요됩니다.\n",
    "print(clean_headlines)"
   ]
  },
  {
   "cell_type": "code",
   "execution_count": 12,
   "id": "nervous-transcript",
   "metadata": {},
   "outputs": [
    {
     "name": "stdout",
     "output_type": "stream",
     "text": [
      "98360\n",
      "98360\n",
      "98360\n",
      "98360\n"
     ]
    }
   ],
   "source": [
    "print(len(data['text']))\n",
    "print(len(data['headlines']))\n",
    "\n",
    "print(len(clean_text))\n",
    "print(len(clean_headlines))"
   ]
  },
  {
   "cell_type": "code",
   "execution_count": 13,
   "id": "honest-interface",
   "metadata": {},
   "outputs": [],
   "source": [
    "data['text'] = clean_text\n",
    "data['headlines'] = clean_headlines\n",
    "\n",
    "# 빈 값을 Null 값으로 변환\n",
    "data.replace('', np.nan, inplace=True)"
   ]
  },
  {
   "cell_type": "code",
   "execution_count": 14,
   "id": "acquired-amazon",
   "metadata": {},
   "outputs": [
    {
     "data": {
      "text/plain": [
       "headlines    0\n",
       "text         0\n",
       "dtype: int64"
      ]
     },
     "execution_count": 14,
     "metadata": {},
     "output_type": "execute_result"
    }
   ],
   "source": [
    "data.isnull().sum()"
   ]
  },
  {
   "cell_type": "code",
   "execution_count": 15,
   "id": "thorough-force",
   "metadata": {},
   "outputs": [
    {
     "name": "stdout",
     "output_type": "stream",
     "text": [
      "전체 샘플수 : 98360\n"
     ]
    }
   ],
   "source": [
    "data.dropna(axis=0, inplace=True)\n",
    "print('전체 샘플수 :', (len(data)))"
   ]
  },
  {
   "cell_type": "markdown",
   "id": "banner-tenant",
   "metadata": {},
   "source": [
    "## Step 3. 어텐션 메커니즘 사용하기 (추상적 요약)"
   ]
  },
  {
   "cell_type": "markdown",
   "id": "awful-revelation",
   "metadata": {},
   "source": [
    "### 3- 1. 훈련데이터와 테스트 나누기"
   ]
  },
  {
   "cell_type": "code",
   "execution_count": 16,
   "id": "laden-adapter",
   "metadata": {
    "scrolled": true
   },
   "outputs": [
    {
     "name": "stdout",
     "output_type": "stream",
     "text": [
      "텍스트의 최소 길이 : 1\n",
      "텍스트의 최대 길이 : 60\n",
      "텍스트의 평균 길이 : 35.09968483123221\n",
      "요약의 최소 길이 : 1\n",
      "요약의 최대 길이 : 16\n",
      "요약의 평균 길이 : 9.299532330215534\n"
     ]
    },
    {
     "data": {
      "image/png": "[encoded data removed]",
      "text/plain": [
       "<Figure size 432x288 with 2 Axes>"
      ]
     },
     "metadata": {
      "needs_background": "light"
     },
     "output_type": "display_data"
    },
    {
     "data": {
      "image/png": "[encoded data removed]",
      "text/plain": [
       "<Figure size 432x288 with 1 Axes>"
      ]
     },
     "metadata": {
      "needs_background": "light"
     },
     "output_type": "display_data"
    },
    {
     "data": {
      "image/png": "[encoded data removed]",
      "text/plain": [
       "<Figure size 432x288 with 1 Axes>"
      ]
     },
     "metadata": {
      "needs_background": "light"
     },
     "output_type": "display_data"
    }
   ],
   "source": [
    "# 길이 분포 출력\n",
    "import matplotlib.pyplot as plt\n",
    "\n",
    "text_len = [len(s.split()) for s in data['text']]\n",
    "headlines_len = [len(s.split()) for s in data['headlines']]\n",
    "\n",
    "print('텍스트의 최소 길이 : {}'.format(np.min(text_len)))\n",
    "print('텍스트의 최대 길이 : {}'.format(np.max(text_len)))\n",
    "print('텍스트의 평균 길이 : {}'.format(np.mean(text_len)))\n",
    "print('요약의 최소 길이 : {}'.format(np.min(headlines_len)))\n",
    "print('요약의 최대 길이 : {}'.format(np.max(headlines_len)))\n",
    "print('요약의 평균 길이 : {}'.format(np.mean(headlines_len)))\n",
    "\n",
    "plt.subplot(1,2,1)\n",
    "plt.boxplot(headlines_len)\n",
    "plt.title('headlines')\n",
    "plt.subplot(1,2,2)\n",
    "plt.boxplot(text_len)\n",
    "plt.title('Text')\n",
    "plt.tight_layout()\n",
    "plt.show()\n",
    "\n",
    "plt.title('headlines')\n",
    "plt.hist(headlines_len, bins = 40)\n",
    "plt.xlabel('length of samples')\n",
    "plt.ylabel('number of samples')\n",
    "plt.show()\n",
    "\n",
    "plt.title('Text')\n",
    "plt.hist(text_len, bins = 40)\n",
    "plt.xlabel('length of samples')\n",
    "plt.ylabel('number of samples')\n",
    "plt.show()"
   ]
  },
  {
   "cell_type": "code",
   "execution_count": 17,
   "id": "extended-lafayette",
   "metadata": {},
   "outputs": [],
   "source": [
    "text_max_len = 40\n",
    "headlines_max_len = 10"
   ]
  },
  {
   "cell_type": "code",
   "execution_count": 18,
   "id": "fixed-commonwealth",
   "metadata": {},
   "outputs": [],
   "source": [
    "def below_threshold_len(max_len, nested_list):\n",
    "    cnt = 0\n",
    "    for s in nested_list:\n",
    "        if(len(s.split()) <= max_len):\n",
    "            cnt = cnt + 1\n",
    "    print('전체 샘플 중 길이가 %s 이하인 샘플의 비율: %s'%(max_len, (cnt / len(nested_list))))"
   ]
  },
  {
   "cell_type": "code",
   "execution_count": 19,
   "id": "public-roads",
   "metadata": {},
   "outputs": [
    {
     "name": "stdout",
     "output_type": "stream",
     "text": [
      "전체 샘플 중 길이가 40 이하인 샘플의 비율: 0.9238714924766165\n",
      "전체 샘플 중 길이가 10 이하인 샘플의 비율: 0.8162972753151687\n"
     ]
    }
   ],
   "source": [
    "below_threshold_len(text_max_len, data['text'])\n",
    "below_threshold_len(headlines_max_len,  data['headlines'])"
   ]
  },
  {
   "cell_type": "code",
   "execution_count": 20,
   "id": "published-activity",
   "metadata": {},
   "outputs": [
    {
     "name": "stdout",
     "output_type": "stream",
     "text": [
      "전체 샘플수 : 74102\n"
     ]
    }
   ],
   "source": [
    "data = data[data['text'].apply(lambda x: len(x.split()) <= text_max_len)]\n",
    "data = data[data['headlines'].apply(lambda x: len(x.split()) <= headlines_max_len)]\n",
    "print('전체 샘플수 :', (len(data)))"
   ]
  },
  {
   "cell_type": "code",
   "execution_count": 21,
   "id": "indonesian-drinking",
   "metadata": {},
   "outputs": [
    {
     "data": {
      "text/html": [
       "<div>\n",
       "<style scoped>\n",
       "    .dataframe tbody tr th:only-of-type {\n",
       "        vertical-align: middle;\n",
       "    }\n",
       "\n",
       "    .dataframe tbody tr th {\n",
       "        vertical-align: top;\n",
       "    }\n",
       "\n",
       "    .dataframe thead th {\n",
       "        text-align: right;\n",
       "    }\n",
       "</style>\n",
       "<table border=\"1\" class=\"dataframe\">\n",
       "  <thead>\n",
       "    <tr style=\"text-align: right;\">\n",
       "      <th></th>\n",
       "      <th>headlines</th>\n",
       "      <th>text</th>\n",
       "      <th>decoder_input</th>\n",
       "      <th>decoder_target</th>\n",
       "    </tr>\n",
       "  </thead>\n",
       "  <tbody>\n",
       "    <tr>\n",
       "      <th>2</th>\n",
       "      <td>new zealand end rohit sharma led india match w...</td>\n",
       "      <td>new zealand defeated india wickets fourth odi ...</td>\n",
       "      <td>sostoken new zealand end rohit sharma led indi...</td>\n",
       "      <td>new zealand end rohit sharma led india match w...</td>\n",
       "    </tr>\n",
       "    <tr>\n",
       "      <th>3</th>\n",
       "      <td>aegon life iterm insurance plan helps customer...</td>\n",
       "      <td>aegon life iterm insurance plan customers enjo...</td>\n",
       "      <td>sostoken aegon life iterm insurance plan helps...</td>\n",
       "      <td>aegon life iterm insurance plan helps customer...</td>\n",
       "    </tr>\n",
       "    <tr>\n",
       "      <th>5</th>\n",
       "      <td>rahat fateh ali khan denies getting notice for...</td>\n",
       "      <td>pakistani singer rahat fateh ali khan denied r...</td>\n",
       "      <td>sostoken rahat fateh ali khan denies getting n...</td>\n",
       "      <td>rahat fateh ali khan denies getting notice for...</td>\n",
       "    </tr>\n",
       "    <tr>\n",
       "      <th>9</th>\n",
       "      <td>cong wins ramgarh bypoll in rajasthan takes to...</td>\n",
       "      <td>congress candidate shafia zubair ramgarh assem...</td>\n",
       "      <td>sostoken cong wins ramgarh bypoll in rajasthan...</td>\n",
       "      <td>cong wins ramgarh bypoll in rajasthan takes to...</td>\n",
       "    </tr>\n",
       "    <tr>\n",
       "      <th>10</th>\n",
       "      <td>up cousins fed human excreta for friendship wi...</td>\n",
       "      <td>two minor cousins uttar pradesh gorakhpur alle...</td>\n",
       "      <td>sostoken up cousins fed human excreta for frie...</td>\n",
       "      <td>up cousins fed human excreta for friendship wi...</td>\n",
       "    </tr>\n",
       "  </tbody>\n",
       "</table>\n",
       "</div>"
      ],
      "text/plain": [
       "                                            headlines  \\\n",
       "2   new zealand end rohit sharma led india match w...   \n",
       "3   aegon life iterm insurance plan helps customer...   \n",
       "5   rahat fateh ali khan denies getting notice for...   \n",
       "9   cong wins ramgarh bypoll in rajasthan takes to...   \n",
       "10  up cousins fed human excreta for friendship wi...   \n",
       "\n",
       "                                                 text  \\\n",
       "2   new zealand defeated india wickets fourth odi ...   \n",
       "3   aegon life iterm insurance plan customers enjo...   \n",
       "5   pakistani singer rahat fateh ali khan denied r...   \n",
       "9   congress candidate shafia zubair ramgarh assem...   \n",
       "10  two minor cousins uttar pradesh gorakhpur alle...   \n",
       "\n",
       "                                        decoder_input  \\\n",
       "2   sostoken new zealand end rohit sharma led indi...   \n",
       "3   sostoken aegon life iterm insurance plan helps...   \n",
       "5   sostoken rahat fateh ali khan denies getting n...   \n",
       "9   sostoken cong wins ramgarh bypoll in rajasthan...   \n",
       "10  sostoken up cousins fed human excreta for frie...   \n",
       "\n",
       "                                       decoder_target  \n",
       "2   new zealand end rohit sharma led india match w...  \n",
       "3   aegon life iterm insurance plan helps customer...  \n",
       "5   rahat fateh ali khan denies getting notice for...  \n",
       "9   cong wins ramgarh bypoll in rajasthan takes to...  \n",
       "10  up cousins fed human excreta for friendship wi...  "
      ]
     },
     "execution_count": 21,
     "metadata": {},
     "output_type": "execute_result"
    }
   ],
   "source": [
    "# 요약 데이터에는 시작 토큰과 종료 토큰을 추가한다.\n",
    "data['decoder_input'] = data['headlines'].apply(lambda x : 'sostoken '+ x)\n",
    "data['decoder_target'] = data['headlines'].apply(lambda x : x + ' eostoken')\n",
    "data.head()"
   ]
  },
  {
   "cell_type": "code",
   "execution_count": 22,
   "id": "binary-movement",
   "metadata": {},
   "outputs": [],
   "source": [
    "encoder_input = np.array(data['text']) # 인코더의 입력\n",
    "decoder_input = np.array(data['decoder_input']) # 디코더의 입력\n",
    "decoder_target = np.array(data['decoder_target']) # 디코더의 레이블"
   ]
  },
  {
   "cell_type": "code",
   "execution_count": 23,
   "id": "discrete-alarm",
   "metadata": {},
   "outputs": [
    {
     "name": "stdout",
     "output_type": "stream",
     "text": [
      "[55214 71041 24136 ... 28433 41994 14219]\n"
     ]
    }
   ],
   "source": [
    "indices = np.arange(encoder_input.shape[0])\n",
    "np.random.shuffle(indices)\n",
    "print(indices)"
   ]
  },
  {
   "cell_type": "code",
   "execution_count": 24,
   "id": "detailed-sunrise",
   "metadata": {},
   "outputs": [],
   "source": [
    "encoder_input = encoder_input[indices]\n",
    "decoder_input = decoder_input[indices]\n",
    "decoder_target = decoder_target[indices]"
   ]
  },
  {
   "cell_type": "code",
   "execution_count": 25,
   "id": "deluxe-tucson",
   "metadata": {},
   "outputs": [
    {
     "name": "stdout",
     "output_type": "stream",
     "text": [
      "테스트 데이터의 수 : 14820\n"
     ]
    }
   ],
   "source": [
    "n_of_val = int(len(encoder_input)*0.2)\n",
    "print('테스트 데이터의 수 :', n_of_val)"
   ]
  },
  {
   "cell_type": "code",
   "execution_count": 26,
   "id": "continuous-westminster",
   "metadata": {},
   "outputs": [
    {
     "name": "stdout",
     "output_type": "stream",
     "text": [
      "훈련 데이터의 개수 : 59282\n",
      "훈련 레이블의 개수 : 59282\n",
      "테스트 데이터의 개수 : 14820\n",
      "테스트 레이블의 개수 : 14820\n"
     ]
    }
   ],
   "source": [
    "encoder_input_train = encoder_input[:-n_of_val]\n",
    "decoder_input_train = decoder_input[:-n_of_val]\n",
    "decoder_target_train = decoder_target[:-n_of_val]\n",
    "\n",
    "encoder_input_test = encoder_input[-n_of_val:]\n",
    "decoder_input_test = decoder_input[-n_of_val:]\n",
    "decoder_target_test = decoder_target[-n_of_val:]\n",
    "\n",
    "print('훈련 데이터의 개수 :', len(encoder_input_train))\n",
    "print('훈련 레이블의 개수 :', len(decoder_input_train))\n",
    "print('테스트 데이터의 개수 :', len(encoder_input_test))\n",
    "print('테스트 레이블의 개수 :', len(decoder_input_test))"
   ]
  },
  {
   "cell_type": "markdown",
   "id": "empirical-ocean",
   "metadata": {},
   "source": [
    "### 3-2. 정수 인코딩"
   ]
  },
  {
   "cell_type": "code",
   "execution_count": 27,
   "id": "capital-bhutan",
   "metadata": {},
   "outputs": [],
   "source": [
    "src_tokenizer = Tokenizer() # 토크나이저 정의\n",
    "src_tokenizer.fit_on_texts(encoder_input_train) # 입력된 데이터로부터 단어 집합 생성"
   ]
  },
  {
   "cell_type": "code",
   "execution_count": 28,
   "id": "hidden-answer",
   "metadata": {},
   "outputs": [
    {
     "name": "stdout",
     "output_type": "stream",
     "text": [
      "단어 집합(vocabulary)의 크기 : 61465\n",
      "등장 빈도가 6번 이하인 희귀 단어의 수: 42159\n",
      "단어 집합에서 희귀 단어를 제외시킬 경우의 단어 집합의 크기 19306\n",
      "단어 집합에서 희귀 단어의 비율: 68.59025461644839\n",
      "전체 등장 빈도에서 희귀 단어 등장 빈도 비율: 4.1925566603579245\n"
     ]
    }
   ],
   "source": [
    "threshold = 7\n",
    "total_cnt = len(src_tokenizer.word_index) # 단어의 수\n",
    "rare_cnt = 0 # 등장 빈도수가 threshold보다 작은 단어의 개수를 카운트\n",
    "total_freq = 0 # 훈련 데이터의 전체 단어 빈도수 총 합\n",
    "rare_freq = 0 # 등장 빈도수가 threshold보다 작은 단어의 등장 빈도수의 총 합\n",
    "\n",
    "# 단어와 빈도수의 쌍(pair)을 key와 value로 받는다.\n",
    "for key, value in src_tokenizer.word_counts.items():\n",
    "    total_freq = total_freq + value\n",
    "\n",
    "    # 단어의 등장 빈도수가 threshold보다 작으면\n",
    "    if(value < threshold):\n",
    "        rare_cnt = rare_cnt + 1\n",
    "        rare_freq = rare_freq + value\n",
    "\n",
    "print('단어 집합(vocabulary)의 크기 :', total_cnt)\n",
    "print('등장 빈도가 %s번 이하인 희귀 단어의 수: %s'%(threshold - 1, rare_cnt))\n",
    "print('단어 집합에서 희귀 단어를 제외시킬 경우의 단어 집합의 크기 %s'%(total_cnt - rare_cnt))\n",
    "print(\"단어 집합에서 희귀 단어의 비율:\", (rare_cnt / total_cnt)*100)\n",
    "print(\"전체 등장 빈도에서 희귀 단어 등장 빈도 비율:\", (rare_freq / total_freq)*100)"
   ]
  },
  {
   "cell_type": "code",
   "execution_count": 29,
   "id": "empirical-scenario",
   "metadata": {},
   "outputs": [],
   "source": [
    "src_vocab = 8000\n",
    "src_tokenizer = Tokenizer(num_words=src_vocab) # 단어 집합의 크기를 8,000으로 제한\n",
    "src_tokenizer.fit_on_texts(encoder_input_train) # 단어 집합 재생성."
   ]
  },
  {
   "cell_type": "code",
   "execution_count": 30,
   "id": "solved-canberra",
   "metadata": {},
   "outputs": [
    {
     "name": "stdout",
     "output_type": "stream",
     "text": [
      "[[337, 20, 8, 756, 21, 574, 583, 2418, 1284, 6526, 323, 1306, 2533, 798, 152, 215, 1284, 6526, 195, 1639, 1838, 603, 291, 2418, 4853, 6645, 3157, 96, 3269], [11, 206, 7671, 774, 2304, 4225, 4045, 74, 52, 419, 230, 415, 7, 296, 1, 3158, 11, 84, 302, 140, 324, 914, 4225, 4045, 485, 11, 106, 6, 74, 157], [1190, 53, 1644, 144, 686, 187, 937, 1377, 5019, 187, 6, 11, 352, 19, 540, 168, 187, 110, 25, 157, 141, 144, 5571, 3593, 1687]]\n"
     ]
    }
   ],
   "source": [
    "# 텍스트 시퀀스를 정수 시퀀스로 변환\n",
    "encoder_input_train = src_tokenizer.texts_to_sequences(encoder_input_train) \n",
    "encoder_input_test = src_tokenizer.texts_to_sequences(encoder_input_test)\n",
    "\n",
    "# 잘 진행되었는지 샘플 출력\n",
    "print(encoder_input_train[:3])"
   ]
  },
  {
   "cell_type": "code",
   "execution_count": 31,
   "id": "wound-platform",
   "metadata": {},
   "outputs": [],
   "source": [
    "tar_tokenizer = Tokenizer()\n",
    "tar_tokenizer.fit_on_texts(decoder_input_train)"
   ]
  },
  {
   "cell_type": "code",
   "execution_count": 32,
   "id": "continent-category",
   "metadata": {},
   "outputs": [
    {
     "name": "stdout",
     "output_type": "stream",
     "text": [
      "단어 집합(vocabulary)의 크기 : 27228\n",
      "등장 빈도가 5번 이하인 희귀 단어의 수: 18168\n",
      "단어 집합에서 희귀 단어를 제외시킬 경우의 단어 집합의 크기 9060\n",
      "단어 집합에서 희귀 단어의 비율: 66.72542970471574\n",
      "전체 등장 빈도에서 희귀 단어 등장 빈도 비율: 5.953974234905732\n"
     ]
    }
   ],
   "source": [
    "threshold = 6\n",
    "total_cnt = len(tar_tokenizer.word_index) # 단어의 수\n",
    "rare_cnt = 0 # 등장 빈도수가 threshold보다 작은 단어의 개수를 카운트\n",
    "total_freq = 0 # 훈련 데이터의 전체 단어 빈도수 총 합\n",
    "rare_freq = 0 # 등장 빈도수가 threshold보다 작은 단어의 등장 빈도수의 총 합\n",
    "\n",
    "# 단어와 빈도수의 쌍(pair)을 key와 value로 받는다.\n",
    "for key, value in tar_tokenizer.word_counts.items():\n",
    "    total_freq = total_freq + value\n",
    "\n",
    "    # 단어의 등장 빈도수가 threshold보다 작으면\n",
    "    if(value < threshold):\n",
    "        rare_cnt = rare_cnt + 1\n",
    "        rare_freq = rare_freq + value\n",
    "\n",
    "print('단어 집합(vocabulary)의 크기 :', total_cnt)\n",
    "print('등장 빈도가 %s번 이하인 희귀 단어의 수: %s'%(threshold - 1, rare_cnt))\n",
    "print('단어 집합에서 희귀 단어를 제외시킬 경우의 단어 집합의 크기 %s'%(total_cnt - rare_cnt))\n",
    "print(\"단어 집합에서 희귀 단어의 비율:\", (rare_cnt / total_cnt)*100)\n",
    "print(\"전체 등장 빈도에서 희귀 단어 등장 빈도 비율:\", (rare_freq / total_freq)*100)"
   ]
  },
  {
   "cell_type": "code",
   "execution_count": 33,
   "id": "partial-identification",
   "metadata": {},
   "outputs": [
    {
     "name": "stdout",
     "output_type": "stream",
     "text": [
      "input\n",
      "input  [[1, 250, 3, 73, 401, 973, 1863, 890, 908], [1, 171, 710, 60, 4], [1, 850, 201, 32, 1944, 10, 43], [1, 981, 1467, 3, 13, 538], [1, 171, 1298, 446, 6, 1271, 11, 260]]\n",
      "target\n",
      "decoder  [[250, 3, 73, 401, 973, 1863, 890, 908, 2], [171, 710, 60, 4, 2], [850, 201, 32, 1944, 10, 43, 2], [981, 1467, 3, 13, 538, 2], [171, 1298, 446, 6, 1271, 11, 260, 2]]\n"
     ]
    }
   ],
   "source": [
    "tar_vocab = 2000\n",
    "tar_tokenizer = Tokenizer(num_words=tar_vocab) \n",
    "tar_tokenizer.fit_on_texts(decoder_input_train)\n",
    "tar_tokenizer.fit_on_texts(decoder_target_train)\n",
    "\n",
    "# 텍스트 시퀀스를 정수 시퀀스로 변환\n",
    "decoder_input_train = tar_tokenizer.texts_to_sequences(decoder_input_train) \n",
    "decoder_target_train = tar_tokenizer.texts_to_sequences(decoder_target_train)\n",
    "decoder_input_test = tar_tokenizer.texts_to_sequences(decoder_input_test)\n",
    "decoder_target_test = tar_tokenizer.texts_to_sequences(decoder_target_test)\n",
    "\n",
    "# 잘 변환되었는지 확인\n",
    "print('input')\n",
    "print('input ',decoder_input_train[:5])\n",
    "print('target')\n",
    "print('decoder ',decoder_target_train[:5])"
   ]
  },
  {
   "cell_type": "code",
   "execution_count": 36,
   "id": "sapphire-astrology",
   "metadata": {},
   "outputs": [
    {
     "name": "stdout",
     "output_type": "stream",
     "text": [
      "삭제할 훈련 데이터의 개수 : 0\n",
      "삭제할 테스트 데이터의 개수 : 0\n",
      "훈련 데이터의 개수 : 59272\n",
      "훈련 레이블의 개수 : 59272\n",
      "테스트 데이터의 개수 : 14819\n",
      "테스트 레이블의 개수 : 14819\n"
     ]
    }
   ],
   "source": [
    "drop_train = [index for index, sentence in enumerate(decoder_input_train) if len(sentence) == 1]\n",
    "drop_test = [index for index, sentence in enumerate(decoder_input_test) if len(sentence) == 1]\n",
    "\n",
    "print('삭제할 훈련 데이터의 개수 :', len(drop_train))\n",
    "print('삭제할 테스트 데이터의 개수 :', len(drop_test))\n",
    "\n",
    "encoder_input_train = np.delete(encoder_input_train, drop_train, axis=0)\n",
    "decoder_input_train = np.delete(decoder_input_train, drop_train, axis=0)\n",
    "decoder_target_train = np.delete(decoder_target_train, drop_train, axis=0)\n",
    "\n",
    "encoder_input_test = np.delete(encoder_input_test, drop_test, axis=0)\n",
    "decoder_input_test = np.delete(decoder_input_test, drop_test, axis=0)\n",
    "decoder_target_test = np.delete(decoder_target_test, drop_test, axis=0)\n",
    "\n",
    "print('훈련 데이터의 개수 :', len(encoder_input_train))\n",
    "print('훈련 레이블의 개수 :', len(decoder_input_train))\n",
    "print('테스트 데이터의 개수 :', len(encoder_input_test))\n",
    "print('테스트 레이블의 개수 :', len(decoder_input_test))"
   ]
  },
  {
   "cell_type": "code",
   "execution_count": 38,
   "id": "prospective-antique",
   "metadata": {},
   "outputs": [],
   "source": [
    "encoder_input_train = pad_sequences(encoder_input_train, maxlen=text_max_len, padding='post')\n",
    "encoder_input_test = pad_sequences(encoder_input_test, maxlen=text_max_len, padding='post')\n",
    "decoder_input_train = pad_sequences(decoder_input_train, maxlen=headlines_max_len, padding='post')\n",
    "decoder_target_train = pad_sequences(decoder_target_train, maxlen=headlines_max_len, padding='post')\n",
    "decoder_input_test = pad_sequences(decoder_input_test, maxlen=headlines_max_len, padding='post')\n",
    "decoder_target_test = pad_sequences(decoder_target_test, maxlen=headlines_max_len, padding='post')"
   ]
  },
  {
   "cell_type": "markdown",
   "id": "median-california",
   "metadata": {},
   "source": [
    "### 3-2. 모델 설계하기"
   ]
  },
  {
   "cell_type": "code",
   "execution_count": 45,
   "id": "armed-theater",
   "metadata": {},
   "outputs": [],
   "source": [
    "from tensorflow.keras.layers import Input, LSTM, Embedding, Dense, Concatenate\n",
    "from tensorflow.keras.models import Model\n",
    "from tensorflow.keras.callbacks import EarlyStopping, ModelCheckpoint\n",
    "\n",
    "\n",
    "# 인코더 설계 시작\n",
    "embedding_dim = 128\n",
    "hidden_size = 256\n",
    "\n",
    "# 인코더\n",
    "encoder_inputs = Input(shape=(text_max_len,))\n",
    "\n",
    "# 인코더의 임베딩 층\n",
    "enc_emb = Embedding(src_vocab, embedding_dim)(encoder_inputs)\n",
    "\n",
    "# 인코더의 LSTM 1\n",
    "encoder_lstm1 = LSTM(hidden_size, return_sequences=True, return_state=True ,dropout = 0.4)\n",
    "encoder_output1, state_h1, state_c1 = encoder_lstm1(enc_emb)\n",
    "\n",
    "# 인코더의 LSTM 2\n",
    "encoder_lstm2 = LSTM(hidden_size, return_sequences=True, return_state=True, dropout=0.4)\n",
    "encoder_output2, state_h2, state_c2 = encoder_lstm2(encoder_output1)\n",
    "\n",
    "# 인코더의 LSTM 3\n",
    "encoder_lstm3 = LSTM(hidden_size, return_state=True, return_sequences=True, dropout=0.4)\n",
    "encoder_outputs, state_h, state_c= encoder_lstm3(encoder_output2)"
   ]
  },
  {
   "cell_type": "code",
   "execution_count": 47,
   "id": "handmade-patio",
   "metadata": {},
   "outputs": [],
   "source": [
    "# 디코더 설계\n",
    "decoder_inputs = Input(shape=(None,))\n",
    "\n",
    "# 디코더의 임베딩 층\n",
    "dec_emb_layer = Embedding(tar_vocab, embedding_dim)\n",
    "dec_emb = dec_emb_layer(decoder_inputs)\n",
    "\n",
    "# 디코더의 LSTM\n",
    "decoder_lstm = LSTM(hidden_size, return_sequences=True, return_state=True, dropout=0.4)\n",
    "decoder_outputs, _, _ = decoder_lstm(dec_emb, initial_state=[state_h, state_c])"
   ]
  },
  {
   "cell_type": "markdown",
   "id": "taken-currency",
   "metadata": {},
   "source": [
    "디코터 출력층에는 tar_vocab의 선택지중 하나의 단어를 고르는 다중 클래스 분류문제기때문에 softmax함수를 사용한다."
   ]
  },
  {
   "cell_type": "code",
   "execution_count": 48,
   "id": "pursuant-shoot",
   "metadata": {},
   "outputs": [
    {
     "name": "stdout",
     "output_type": "stream",
     "text": [
      "Model: \"model_2\"\n",
      "__________________________________________________________________________________________________\n",
      "Layer (type)                    Output Shape         Param #     Connected to                     \n",
      "==================================================================================================\n",
      "input_3 (InputLayer)            [(None, 40)]         0                                            \n",
      "__________________________________________________________________________________________________\n",
      "embedding_2 (Embedding)         (None, 40, 128)      1024000     input_3[0][0]                    \n",
      "__________________________________________________________________________________________________\n",
      "lstm_4 (LSTM)                   [(None, 40, 256), (N 394240      embedding_2[0][0]                \n",
      "__________________________________________________________________________________________________\n",
      "input_5 (InputLayer)            [(None, None)]       0                                            \n",
      "__________________________________________________________________________________________________\n",
      "lstm_5 (LSTM)                   [(None, 40, 256), (N 525312      lstm_4[0][0]                     \n",
      "__________________________________________________________________________________________________\n",
      "embedding_4 (Embedding)         (None, None, 128)    256000      input_5[0][0]                    \n",
      "__________________________________________________________________________________________________\n",
      "lstm_6 (LSTM)                   [(None, 40, 256), (N 525312      lstm_5[0][0]                     \n",
      "__________________________________________________________________________________________________\n",
      "lstm_8 (LSTM)                   [(None, None, 256),  394240      embedding_4[0][0]                \n",
      "                                                                 lstm_6[0][1]                     \n",
      "                                                                 lstm_6[0][2]                     \n",
      "__________________________________________________________________________________________________\n",
      "dense_2 (Dense)                 (None, None, 2000)   514000      lstm_8[0][0]                     \n",
      "==================================================================================================\n",
      "Total params: 3,633,104\n",
      "Trainable params: 3,633,104\n",
      "Non-trainable params: 0\n",
      "__________________________________________________________________________________________________\n"
     ]
    }
   ],
   "source": [
    "# 디코더의 출력층\n",
    "decoder_softmax_layer = Dense(tar_vocab, activation='softmax')\n",
    "decoder_softmax_outputs = decoder_softmax_layer(decoder_outputs) \n",
    "\n",
    "# 모델 정의\n",
    "model = Model([encoder_inputs, decoder_inputs], decoder_softmax_outputs)\n",
    "model.summary()"
   ]
  },
  {
   "cell_type": "markdown",
   "id": "published-independence",
   "metadata": {},
   "source": [
    "디코더층에 어텐션 메커니즘을 결합한다."
   ]
  },
  {
   "cell_type": "code",
   "execution_count": 49,
   "id": "intelligent-wisconsin",
   "metadata": {},
   "outputs": [],
   "source": [
    "urllib.request.urlretrieve(\"https://raw.githubusercontent.com/thushv89/attention_keras/master/src/layers/attention.py\", filename=\"attention.py\")\n",
    "from attention import AttentionLayer"
   ]
  },
  {
   "cell_type": "code",
   "execution_count": 50,
   "id": "detailed-aspect",
   "metadata": {},
   "outputs": [
    {
     "name": "stdout",
     "output_type": "stream",
     "text": [
      "Model: \"model_3\"\n",
      "__________________________________________________________________________________________________\n",
      "Layer (type)                    Output Shape         Param #     Connected to                     \n",
      "==================================================================================================\n",
      "input_3 (InputLayer)            [(None, 40)]         0                                            \n",
      "__________________________________________________________________________________________________\n",
      "embedding_2 (Embedding)         (None, 40, 128)      1024000     input_3[0][0]                    \n",
      "__________________________________________________________________________________________________\n",
      "lstm_4 (LSTM)                   [(None, 40, 256), (N 394240      embedding_2[0][0]                \n",
      "__________________________________________________________________________________________________\n",
      "input_5 (InputLayer)            [(None, None)]       0                                            \n",
      "__________________________________________________________________________________________________\n",
      "lstm_5 (LSTM)                   [(None, 40, 256), (N 525312      lstm_4[0][0]                     \n",
      "__________________________________________________________________________________________________\n",
      "embedding_4 (Embedding)         (None, None, 128)    256000      input_5[0][0]                    \n",
      "__________________________________________________________________________________________________\n",
      "lstm_6 (LSTM)                   [(None, 40, 256), (N 525312      lstm_5[0][0]                     \n",
      "__________________________________________________________________________________________________\n",
      "lstm_8 (LSTM)                   [(None, None, 256),  394240      embedding_4[0][0]                \n",
      "                                                                 lstm_6[0][1]                     \n",
      "                                                                 lstm_6[0][2]                     \n",
      "__________________________________________________________________________________________________\n",
      "attention_layer (AttentionLayer ((None, None, 256),  131328      lstm_6[0][0]                     \n",
      "                                                                 lstm_8[0][0]                     \n",
      "__________________________________________________________________________________________________\n",
      "concat_layer (Concatenate)      (None, None, 512)    0           lstm_8[0][0]                     \n",
      "                                                                 attention_layer[0][0]            \n",
      "__________________________________________________________________________________________________\n",
      "dense_3 (Dense)                 (None, None, 2000)   1026000     concat_layer[0][0]               \n",
      "==================================================================================================\n",
      "Total params: 4,276,432\n",
      "Trainable params: 4,276,432\n",
      "Non-trainable params: 0\n",
      "__________________________________________________________________________________________________\n"
     ]
    }
   ],
   "source": [
    "# 어텐션 층(어텐션 함수)\n",
    "attn_layer = AttentionLayer(name='attention_layer')\n",
    "# 인코더와 디코더의 모든 time step의 hidden state를 어텐션 층에 전달하고 결과를 리턴\n",
    "attn_out, attn_states = attn_layer([encoder_outputs, decoder_outputs])\n",
    "\n",
    "# 어텐션의 결과와 디코더의 hidden state들을 연결\n",
    "decoder_concat_input = Concatenate(axis=-1, name='concat_layer')([decoder_outputs, attn_out])\n",
    "\n",
    "# 디코더의 출력층\n",
    "decoder_softmax_layer = Dense(tar_vocab, activation='softmax')\n",
    "decoder_softmax_outputs = decoder_softmax_layer(decoder_concat_input)\n",
    "\n",
    "# 모델 정의\n",
    "model = Model([encoder_inputs, decoder_inputs], decoder_softmax_outputs)\n",
    "model.summary()"
   ]
  },
  {
   "cell_type": "code",
   "execution_count": 51,
   "id": "improving-immunology",
   "metadata": {},
   "outputs": [
    {
     "name": "stdout",
     "output_type": "stream",
     "text": [
      "Epoch 1/50\n",
      "232/232 [==============================] - 53s 193ms/step - loss: 4.7609 - val_loss: 4.1147\n",
      "Epoch 2/50\n",
      "232/232 [==============================] - 44s 188ms/step - loss: 4.0558 - val_loss: 3.7672\n",
      "Epoch 3/50\n",
      "232/232 [==============================] - 44s 188ms/step - loss: 3.7142 - val_loss: 3.5576\n",
      "Epoch 4/50\n",
      "232/232 [==============================] - 44s 188ms/step - loss: 3.4948 - val_loss: 3.4060\n",
      "Epoch 5/50\n",
      "232/232 [==============================] - 44s 189ms/step - loss: 3.3211 - val_loss: 3.2936\n",
      "Epoch 6/50\n",
      "232/232 [==============================] - 44s 189ms/step - loss: 3.1760 - val_loss: 3.1814\n",
      "Epoch 7/50\n",
      "232/232 [==============================] - 44s 189ms/step - loss: 3.0536 - val_loss: 3.1072\n",
      "Epoch 8/50\n",
      "232/232 [==============================] - 44s 189ms/step - loss: 2.9347 - val_loss: 3.0498\n",
      "Epoch 9/50\n",
      "232/232 [==============================] - 44s 189ms/step - loss: 2.8412 - val_loss: 3.0020\n",
      "Epoch 10/50\n",
      "232/232 [==============================] - 44s 189ms/step - loss: 2.7620 - val_loss: 2.9542\n",
      "Epoch 11/50\n",
      "232/232 [==============================] - 44s 189ms/step - loss: 2.6838 - val_loss: 2.9234\n",
      "Epoch 12/50\n",
      "232/232 [==============================] - 44s 189ms/step - loss: 2.6165 - val_loss: 2.8978\n",
      "Epoch 13/50\n",
      "232/232 [==============================] - 44s 189ms/step - loss: 2.5519 - val_loss: 2.8770\n",
      "Epoch 14/50\n",
      "232/232 [==============================] - 44s 189ms/step - loss: 2.4986 - val_loss: 2.8591\n",
      "Epoch 15/50\n",
      "232/232 [==============================] - 44s 189ms/step - loss: 2.4416 - val_loss: 2.8425\n",
      "Epoch 16/50\n",
      "232/232 [==============================] - 44s 189ms/step - loss: 2.3907 - val_loss: 2.8337\n",
      "Epoch 17/50\n",
      "232/232 [==============================] - 44s 189ms/step - loss: 2.3513 - val_loss: 2.8183\n",
      "Epoch 18/50\n",
      "232/232 [==============================] - 44s 189ms/step - loss: 2.3006 - val_loss: 2.8168\n",
      "Epoch 19/50\n",
      "232/232 [==============================] - 44s 189ms/step - loss: 2.2629 - val_loss: 2.8128\n",
      "Epoch 20/50\n",
      "232/232 [==============================] - 44s 189ms/step - loss: 2.2189 - val_loss: 2.8123\n",
      "Epoch 21/50\n",
      "232/232 [==============================] - 44s 189ms/step - loss: 2.1792 - val_loss: 2.8073\n",
      "Epoch 22/50\n",
      "232/232 [==============================] - 44s 189ms/step - loss: 2.1430 - val_loss: 2.8082\n",
      "Epoch 23/50\n",
      "232/232 [==============================] - 44s 189ms/step - loss: 2.1049 - val_loss: 2.8083\n",
      "Epoch 00023: early stopping\n"
     ]
    }
   ],
   "source": [
    "model.compile(optimizer='rmsprop', loss='sparse_categorical_crossentropy')\n",
    "es = EarlyStopping(monitor='val_loss', patience=2, verbose=1)\n",
    "history = model.fit(x=[encoder_input_train, decoder_input_train], y=decoder_target_train, \\\n",
    "          validation_data=([encoder_input_test, decoder_input_test], decoder_target_test), \\\n",
    "          batch_size=256, callbacks=[es], epochs=50)"
   ]
  },
  {
   "cell_type": "code",
   "execution_count": 52,
   "id": "equipped-dinner",
   "metadata": {},
   "outputs": [
    {
     "data": {
      "image/png": "[encoded data removed]",
      "text/plain": [
       "<Figure size 432x288 with 1 Axes>"
      ]
     },
     "metadata": {
      "needs_background": "light"
     },
     "output_type": "display_data"
    }
   ],
   "source": [
    "plt.plot(history.history['loss'], label='train')\n",
    "plt.plot(history.history['val_loss'], label='test')\n",
    "plt.legend()\n",
    "plt.show()"
   ]
  },
  {
   "cell_type": "markdown",
   "id": "federal-visibility",
   "metadata": {},
   "source": [
    "## Step 4. 실제 결과와 요약문 비교하기 (추상적 요약)"
   ]
  },
  {
   "cell_type": "code",
   "execution_count": 53,
   "id": "difficult-wings",
   "metadata": {},
   "outputs": [],
   "source": [
    "src_index_to_word = src_tokenizer.index_word # 원문 단어 집합에서 정수 -> 단어를 얻음\n",
    "tar_word_to_index = tar_tokenizer.word_index # 요약 단어 집합에서 단어 -> 정수를 얻음\n",
    "tar_index_to_word = tar_tokenizer.index_word # 요약 단어 집합에서 정수 -> 단어를 얻음"
   ]
  },
  {
   "cell_type": "code",
   "execution_count": 54,
   "id": "growing-briefs",
   "metadata": {},
   "outputs": [],
   "source": [
    "# 인코더 설계\n",
    "encoder_model = Model(inputs=encoder_inputs, outputs=[encoder_outputs, state_h, state_c])\n",
    "\n",
    "# 이전 시점의 상태들을 저장하는 텐서\n",
    "decoder_state_input_h = Input(shape=(hidden_size,))\n",
    "decoder_state_input_c = Input(shape=(hidden_size,))\n",
    "\n",
    "dec_emb2 = dec_emb_layer(decoder_inputs)\n",
    "\n",
    "# 문장의 다음 단어를 예측하기 위해서 초기 상태(initial_state)를 이전 시점의 상태로 사용. 이는 뒤의 함수 decode_sequence()에 구현\n",
    "# 훈련 과정에서와 달리 LSTM의 리턴하는 은닉 상태와 셀 상태인 state_h와 state_c를 버리지 않음.\n",
    "decoder_outputs2, state_h2, state_c2 = decoder_lstm(dec_emb2, initial_state=[decoder_state_input_h, decoder_state_input_c])"
   ]
  },
  {
   "cell_type": "code",
   "execution_count": 55,
   "id": "mighty-revolution",
   "metadata": {},
   "outputs": [],
   "source": [
    "# 어텐션 함수\n",
    "decoder_hidden_state_input = Input(shape=(text_max_len, hidden_size))\n",
    "attn_out_inf, attn_states_inf = attn_layer([decoder_hidden_state_input, decoder_outputs2])\n",
    "decoder_inf_concat = Concatenate(axis=-1, name='concat')([decoder_outputs2, attn_out_inf])\n",
    "\n",
    "# 디코더의 출력층\n",
    "decoder_outputs2 = decoder_softmax_layer(decoder_inf_concat) \n",
    "\n",
    "# 최종 디코더 모델\n",
    "decoder_model = Model(\n",
    "    [decoder_inputs] + [decoder_hidden_state_input,decoder_state_input_h, decoder_state_input_c],\n",
    "    [decoder_outputs2] + [state_h2, state_c2])"
   ]
  },
  {
   "cell_type": "code",
   "execution_count": 61,
   "id": "included-campaign",
   "metadata": {},
   "outputs": [],
   "source": [
    "def decode_sequence(input_seq):\n",
    "    # 입력으로부터 인코더의 상태를 얻음\n",
    "    e_out, e_h, e_c = encoder_model.predict(input_seq)\n",
    "\n",
    "     # <SOS>에 해당하는 토큰 생성\n",
    "    target_seq = np.zeros((1,1))\n",
    "    target_seq[0, 0] = tar_word_to_index['sostoken']\n",
    "\n",
    "    stop_condition = False\n",
    "    decoded_sentence = ''\n",
    "    while not stop_condition: # stop_condition이 True가 될 때까지 루프 반복\n",
    "\n",
    "        output_tokens, h, c = decoder_model.predict([target_seq] + [e_out, e_h, e_c])\n",
    "        sampled_token_index = np.argmax(output_tokens[0, -1, :])\n",
    "        sampled_token = tar_index_to_word[sampled_token_index]\n",
    "\n",
    "        if (sampled_token!='eostoken'):\n",
    "            decoded_sentence += ' '+sampled_token\n",
    "\n",
    "        #  <eos>에 도달하거나 최대 길이를 넘으면 중단.\n",
    "        if (sampled_token == 'eostoken'  or len(decoded_sentence.split()) >= (headlines_max_len-1)):\n",
    "            stop_condition = True\n",
    "\n",
    "        # 길이가 1인 타겟 시퀀스를 업데이트\n",
    "        target_seq = np.zeros((1,1))\n",
    "        target_seq[0, 0] = sampled_token_index\n",
    "\n",
    "        # 상태를 업데이트 합니다.\n",
    "        e_h, e_c = h, c\n",
    "\n",
    "    return decoded_sentence"
   ]
  },
  {
   "cell_type": "code",
   "execution_count": 62,
   "id": "actual-recipe",
   "metadata": {},
   "outputs": [],
   "source": [
    "# 원문의 정수 시퀀스를 텍스트 시퀀스로 변환\n",
    "def seq2text(input_seq):\n",
    "    temp=''\n",
    "    for i in input_seq:\n",
    "        if (i!=0):\n",
    "            temp = temp + src_index_to_word[i]+' '\n",
    "    return temp\n",
    "\n",
    "# 요약문의 정수 시퀀스를 텍스트 시퀀스로 변환\n",
    "def seq2headlines(input_seq):\n",
    "    temp=''\n",
    "    for i in input_seq:\n",
    "        if ((i!=0 and i!=tar_word_to_index['sostoken']) and i!=tar_word_to_index['eostoken']):\n",
    "            temp = temp + tar_index_to_word[i] + ' '\n",
    "    return temp"
   ]
  },
  {
   "cell_type": "code",
   "execution_count": 63,
   "id": "magnetic-ethnic",
   "metadata": {},
   "outputs": [
    {
     "name": "stdout",
     "output_type": "stream",
     "text": [
      "원문 : teacher school terminated work told class student times completing boy father alleged boy looking depressed go school past told family incident much \n",
      "실제 요약 : class student times for not \n",
      "예측 요약 :  class boy makes to school\n",
      "\n",
      "\n",
      "원문 : uttar pradesh oldest prisoner year old yadav released thursday serving years jail year old murder case freed recommendation previous samajwadi party government governor ram naik using constitutional powers yadav release proposed sp government january \n",
      "실제 요약 : year old uttar pradesh oldest from jail \n",
      "예측 요약 :  jharkhand records year old becomes\n",
      "\n",
      "\n",
      "원문 : toddler rescued wednesday deep wherein stuck foot andhra pradesh nearly hours operation launched two year old handed farmer parents authorities doctors healthy post first aid government ambulance stationed spot \n",
      "실제 요약 : andhra rescued hours after into \n",
      "예측 요약 :  rescued from odisha hospital\n",
      "\n",
      "\n",
      "원문 : sports ministry included former indian cricketer virender sehwag domestic cricketer vinay anti doping appeals panel first time cricketers found place anti doping panel india national anti doping agency comes report claimed indian cricketer tested positive doping \n",
      "실제 요약 : sehwag part of sports ministry anti panel \n",
      "예측 요약 :  sidhu sends to delhi police\n",
      "\n",
      "\n",
      "원문 : total places india recognised world heritage sites unesco latest addition city ahmedabad four sites recognised maharashtra list india india world heritage sites include west bengal maharashtra taj mahal goa among others \n",
      "실제 요약 : which indian are as world \n",
      "예측 요약 :  india ranked in world\n",
      "\n",
      "\n",
      "원문 : several muslims west bengal village contributed money make arrangements hindu woman wedding woman whose father passed away three years ago money organise wedding led initiative said woman like daughter despite different religion \n",
      "실제 요약 : muslims funds for hindu woman wedding in wb \n",
      "예측 요약 :  jharkhand govt announces lakh reward for mother wedding\n",
      "\n",
      "\n",
      "원문 : sitting bjp candidate patel lost gujarat assembly elections includes pm narendra modi hometown congress patel secured seat margin votes earlier defeated assembly elections nearly votes \n",
      "실제 요약 : bjp loses election in pm modi in gujarat \n",
      "예측 요약 :  bjp wins gujarat seat in gujarat\n",
      "\n",
      "\n",
      "원문 : french nuclear safety institute suggested possible source nuclear leak russia owing cloud spread europe last weeks ruled nuclear accident high levels linked sites nuclear fuel treatment medicine \n",
      "실제 요약 : french over europe \n",
      "예측 요약 :  russia nuclear nuclear\n",
      "\n",
      "\n",
      "원문 : million population croatia became smallest nation reach world cup final since defeating england world cup th placed croatia became lowest ranked team achieve feat since fifa world rankings debuted croatia face france finals repeat wc \n",
      "실제 요약 : nation in years to reach world cup final \n",
      "예측 요약 :  india beat to reach world cup final\n",
      "\n",
      "\n",
      "원문 : actor smith wife smith speaking relationship late rapper revealed first met drug hard really told whole story added talking marriage said love family gets us \n",
      "실제 요약 : actor will smith wife reveals she was once drug \n",
      "예측 요약 :  have been on dating smith\n",
      "\n",
      "\n",
      "원문 : gujarat lions owner bansal confirmed team rising pune supergiant play edition ipl bansal said contracts stated teams bought period two years however added given option gujarat lions would like continue playing ipl \n",
      "실제 요약 : gujarat pune to not feature in ipl \n",
      "예측 요약 :  gujarat firm match as\n",
      "\n",
      "\n",
      "원문 : facebook owned messaging company whatsapp ceo chris daniels said head whatsapp india named end year talking fake news platform said want keep whatsapp way built place private conversations daniels second visit india \n",
      "실제 요약 : whatsapp india head will be named by year end ceo \n",
      "예측 요약 :  whatsapp whatsapp to whatsapp\n",
      "\n",
      "\n",
      "원문 : ministry health welfare friday revealed fewer infant deaths recorded compared infant rate declined per live per live gender difference female male infant rate also reduced less \n",
      "실제 요약 : deaths in than in \n",
      "예측 요약 :  govt to death toll in\n",
      "\n",
      "\n",
      "원문 : geeta phogat along father attended aamir khan nd birthday celebrations mumbai residence dangal based daughters film director tiwari actors khurrana fatima shaikh sakshi also spotted party shah rukh khan jackie shroff among guests \n",
      "실제 요약 : family attend aamir birthday party \n",
      "예측 요약 :  shares pic of srk from sets\n",
      "\n",
      "\n",
      "원문 : two government school teachers principal arrested bihar district consuming alcohol principal following independence day celebrations school police team acting tip said medical tests confirmed presence alcohol blood notably bihar became dry state april \n",
      "실제 요약 : school teachers held for in bihar \n",
      "예측 요약 :  school school school kids mid day\n",
      "\n",
      "\n",
      "원문 : first ever land based communication link china pakistan inaugurated friday pakistan china optical fibre cable project includes kilometre underground cable starts pakistan ends china connects optical fibre chinese side part china pakistan economic corridor project \n",
      "실제 요약 : china pakistan open first land based link \n",
      "예측 요약 :  india to pakistan in pakistan war\n",
      "\n",
      "\n",
      "원문 : reliance industries chairman mukesh ambani saturday said time promote reverse brain drain adding talent doors end day ek ka dil hai people want things india ambani stated added best work benefit india indians \n",
      "실제 요약 : hai says ambani \n",
      "예측 요약 :  we are not for boys ambani\n",
      "\n",
      "\n",
      "원문 : duty delhi police constable shot another hit pistol man claimed gangster front housing colony wednesday night incident happened two constables private vehicle asked accused move car reportedly \n",
      "실제 요약 : police shot at in delhi road incident \n",
      "예측 요약 :  delhi police shoots himself after\n",
      "\n",
      "\n",
      "원문 : china wednesday accused us damaging fair nature international trade environment repeatedly abusing rules world trade china made citing recent ruling said us fully ruling anti subsidy tariffs various products imported china \n",
      "실제 요약 : china accuses us of world trade rules \n",
      "예측 요약 :  china imposes on us\n",
      "\n",
      "\n",
      "원문 : directorate revenue intelligence seized fake notes worth lakh local politician mumbai notes printed bangladesh supplied via region india officials said notes high security features original currency notes officials added \n",
      "실제 요약 : fake notes worth lakh seized from mumbai \n",
      "예측 요약 :  fake notes seized from karnataka govt\n",
      "\n",
      "\n",
      "원문 : kerala cm pinarayi vijayan said history speak kerala state got defeated one floods thanked armed forces helped rescue operations amid floods cm also efforts state officials policemen fishermen rescue operations \n",
      "실제 요약 : history will call kerala state that floods cm \n",
      "예측 요약 :  kerala cm visits flood hit by kerala cm\n",
      "\n",
      "\n",
      "원문 : boeing airbus group supplier fined investigation alleged discriminatory hiring policy investigation found founder refused hire muslim applicants engaged religious national origin harassment however said founder personal views \n",
      "실제 요약 : fined cr on against muslims \n",
      "예측 요약 :  faces false allegations\n",
      "\n",
      "\n",
      "원문 : isro communication satellite suffered hours launched thursday reports said update satellite since first orbit raising operation carried successfully friday indigenous satellite made cost crore would provide mobile communication india multi coverage facility \n",
      "실제 요약 : isro satellite hours after launch report \n",
      "예측 요약 :  isro launches its first satellite\n",
      "\n",
      "\n",
      "원문 : offered worth crore shrine lord opening day weighed kilograms gold coins names lord according reports handed priests top officials \n",
      "실제 요약 : man offers gold worth cr to in andhra \n",
      "예측 요약 :  crore spent on day\n",
      "\n",
      "\n",
      "원문 : scientists discovered plastic arctic kilometres north pole area previously sea ice sign ice may allowing high pollution levels oceans said researcher pieces could break move food chain threatening wildlife added \n",
      "실제 요약 : plastic found in \n",
      "예측 요약 :  scientists find ice in ice\n",
      "\n",
      "\n",
      "원문 : american planning build beer hotel part million plan among room beer hotel feature ground floor room dedicated tv channel also hopes construct nine unit residential building office building part plan \n",
      "실제 요약 : to open beer hotel in us \n",
      "예측 요약 :  paris hotel to sell hotel hotel to auction\n",
      "\n",
      "\n",
      "원문 : netherlands prime minister mark gifted pm narendra modi bicycle latter one day visit country tuesday modi posted pictures present twitter captioned thank bicycle modi discussed variety issues releasing joint statement condemning double standards certain nations terrorism \n",
      "실제 요약 : pm gifts pm narendra modi \n",
      "예측 요약 :  pm modi wishes on diwali\n",
      "\n",
      "\n",
      "원문 : india wednesday summoned pakistan high commissioner sohail protest pakistan foreign minister shah qureshi phone call separatist leader umar farooq parties conference qureshi actions direct interference internal affairs neighbour ministry external affairs said statement \n",
      "실제 요약 : india pakistan envoy over call to leader \n",
      "예측 요약 :  india pak envoy to corruption corruption\n",
      "\n",
      "\n",
      "원문 : new establishments mumbai comply fire safety norms within days applying objection certificates mumbai fire brigade said period officers compliance cells carry fire audit move comes months people killed fire broke city mills area \n",
      "실제 요약 : mumbai firms to get days to with fire \n",
      "예측 요약 :  mumbai fire services due to\n",
      "\n",
      "\n",
      "원문 : europe get first restaurant north sea near norwegian coastal village visitors pass pool metre deep restaurant serve local catch like meanwhile building serve marine research centre restaurant closing hours \n",
      "실제 요약 : europe first restaurant to open in \n",
      "예측 요약 :  new country opens its first\n",
      "\n",
      "\n",
      "원문 : artist also known attempt america song using apple computers se designed sequence using individual frame every minute movement currently donald dancing \n",
      "실제 요약 : this is song using apple \n",
      "예측 요약 :  video shows apple that\n",
      "\n",
      "\n",
      "원문 : bjp released campaign advertisement name yuvraj apparently targeting congress vice president rahul gandhi ahead gujarat assembly polls ad shows refusing give vote yuvraj shop burnt riots congress regime comes election commission barred bjp advertisement \n",
      "실제 요약 : after ec bars ad bjp name with yuvraj \n",
      "예측 요약 :  bjp urges rahul to rahul gandhi in gujarat\n",
      "\n",
      "\n",
      "원문 : former england captain david beckham announced retirement football refusing contract french side paris saint may beckham made debut went win six league titles manchester united scoring goals league matches beckham featured england side matches \n",
      "실제 요약 : years since announced his retirement from football \n",
      "예측 요약 :  david warner to debut in\n",
      "\n",
      "\n",
      "원문 : man head three police constables anti squad uttar pradesh allegedly molesting woman though incident reportedly happened march suspended constables video got circulated social media thursday man video seen policemen \n",
      "실제 요약 : cops of anti squad man head in \n",
      "예측 요약 :  man who to be suspended for\n",
      "\n",
      "\n",
      "원문 : chinese company offering first buyers bottles liquor monthly rest lives single payment yuan part alibaba singles day shopping holiday price liquor white spirit made november date singles day held \n",
      "실제 요약 : chinese company offers of liquor for lakh \n",
      "예측 요약 :  china launches sale for sale of\n",
      "\n",
      "\n",
      "원문 : year old girl abducted married gangster gunpoint last month returned home bihar girl brought back gangster photograph showing putting girl held gunpoint went viral last week police formed special teams nab \n",
      "실제 요약 : minor girl married to at returns home \n",
      "예측 요약 :  girl to give to girl\n",
      "\n",
      "\n",
      "원문 : letter issued tigers force surfaced pro group claims responsibility series low explosions police station friday least one police personnel sustained minor injuries blasts police said letter warned harassing people \n",
      "실제 요약 : pro group claims attack on police station \n",
      "예측 요약 :  to force to police\n",
      "\n",
      "\n",
      "원문 : least seven mumbai railway stations reportedly likely get facilities foot water machines among others next six months facilities made available stations including visited two lakh passengers every day per reports \n",
      "실제 요약 : mumbai rail stations to get foot in months \n",
      "예측 요약 :  mumbai railway stations to get\n",
      "\n",
      "\n",
      "원문 : stating us president donald trump stay silent secretary state mike pompeo sunday said iran run something mafia government said iranian people must determine country direction adding us support long ignored voice iranian people \n",
      "실제 요약 : us state secy compares leaders to \n",
      "예측 요약 :  will not be to do not iran\n",
      "\n",
      "\n",
      "원문 : delhi police revealed lalit said mastermind behind deaths family members used research deaths per mobile phone details often watched shows youtube internet platforms police said \n",
      "실제 요약 : deaths on shows \n",
      "예측 요약 :  killed by people in\n",
      "\n",
      "\n",
      "원문 : us navy announced allow wear navy also permitted women sport lock hair new rules came effect wednesday us navy former policy women leaving hair open \n",
      "실제 요약 : us navy allows women to wear \n",
      "예측 요약 :  us navy women to allow gender\n",
      "\n",
      "\n",
      "원문 : gujarat high court monday ordered gujarat government railways pay compensation lakh kin killed train burning incident many people mostly hindu activists killed coach ahmedabad varanasi express set ablaze gujarat station \n",
      "실제 요약 : hc orders ex for train victims \n",
      "예측 요약 :  guj hc announces lakh for victims\n",
      "\n",
      "\n",
      "원문 : police dogs spanish capital city madrid provided beds music therapy sessions called effect attempt reduce stress levels police dogs moved new living quarters also feature air green play zone \n",
      "실제 요약 : madrid police dogs get music for \n",
      "예측 요약 :  man to play football football in football\n",
      "\n",
      "\n",
      "원문 : india captain virat kohli become fastest batsman reach international runs achieving feat th innings fourth test australia thursday kohli surpassed former india batsman sachin tendulkar reached feat innings kohli become fastest reach international runs september last year \n",
      "실제 요약 : kohli fastest to international runs breaks sachin record \n",
      "예측 요약 :  kohli fastest to runs runs in runs\n",
      "\n",
      "\n",
      "원문 : announcing raised billion india largest funding round acquisition ebay india operations flipkart co founder binny bansal mail employees said business must grow careful costs stating online retail market potential billion bansal said flipkart market surface far \n",
      "실제 요약 : flipkart must with cost \n",
      "예측 요약 :  raises bn from flipkart deal\n",
      "\n",
      "\n",
      "원문 : australian spinner nathan lyon fined match fee hitting south africa ab de villiers chest first test sunday incident occurred south africa th lyon dropped ball de villiers laid ground getting run icc also handed one point lyon \n",
      "실제 요약 : icc bowler for ball on de \n",
      "예측 요약 :  england pacer fined for match in\n",
      "\n",
      "\n",
      "원문 : according reports actress katrina kaif feature aamir khan amitabh bachchan starrer upcoming film thugs hindostan according sources actor salman khan recommended katrina film reportedly accepted role film group thugs pre independence era \n",
      "실제 요약 : katrina to star in aamir big of report \n",
      "예측 요약 :  katrina to star in aamir khan film report\n",
      "\n",
      "\n",
      "원문 : us president donald trump monday tweeted absolute right would done nothing wrong comes investigated russian links presidential election campaign earlier trump personal lawyer argued constitution say cannot \n",
      "실제 요약 : have right to myself us prez donald trump \n",
      "예측 요약 :  trump calls for calling him\n",
      "\n",
      "\n",
      "원문 : wishing actress sonam kapoor anand ahuja wedding actress anushka sharma tweeted welcome club beautiful journey life love growth added happiness love life time joy sonam married delhi based businessman anand traditional sikh wedding ceremony tuesday \n",
      "실제 요약 : welcome to the club anushka wishes sonam anand on wedding \n",
      "예측 요약 :  sonam sonam to marry on\n",
      "\n",
      "\n",
      "원문 : taiwanese parliament tuesday passed bill banning slaughter cats dogs human consumption also prohibited using car bike pulling alongside lead travelling anyone breaching order may face two years prison fines lakh \n",
      "실제 요약 : bans of dogs for human \n",
      "예측 요약 :  bill proposes to brain\n",
      "\n",
      "\n"
     ]
    }
   ],
   "source": [
    "for i in range(50, 100):\n",
    "    print(\"원문 :\", seq2text(encoder_input_test[i]))\n",
    "    print(\"실제 요약 :\", seq2headlines(decoder_input_test[i]))\n",
    "    print(\"예측 요약 :\", decode_sequence(encoder_input_test[i].reshape(1, text_max_len)))\n",
    "    print(\"\\n\")"
   ]
  },
  {
   "cell_type": "markdown",
   "id": "driven-indian",
   "metadata": {},
   "source": [
    "## Step 5. Summa을 이용해서 추출적 요약해보기"
   ]
  },
  {
   "cell_type": "code",
   "execution_count": 105,
   "id": "noticed-hypothetical",
   "metadata": {},
   "outputs": [],
   "source": [
    "import requests\n",
    "from summa.summarizer import summarize"
   ]
  },
  {
   "cell_type": "code",
   "execution_count": 135,
   "id": "portable-weight",
   "metadata": {},
   "outputs": [],
   "source": [
    "urllib.request.urlretrieve(\"https://raw.githubusercontent.com/sunnysai12345/News_Summary/master/news_summary_more.csv\", filename=\"news_summary_more.csv\")\n",
    "data2 = pd.read_csv('news_summary_more.csv', encoding='iso-8859-1')"
   ]
  },
  {
   "cell_type": "code",
   "execution_count": 139,
   "id": "appreciated-submission",
   "metadata": {},
   "outputs": [
    {
     "data": {
      "text/plain": [
       "\"Saurav Kant, an alumnus of upGrad and IIIT-B's PG Program in Machine learning and Artificial Intelligence, was a Sr Systems Engineer at Infosys with almost 5 years of work experience. The program and upGrad's 360-degree career support helped him transition to a Data Scientist at Tech Mahindra with 90% salary hike. upGrad's Online Power Learning has powered 3 lakh+ careers.\""
      ]
     },
     "execution_count": 139,
     "metadata": {},
     "output_type": "execute_result"
    }
   ],
   "source": [
    "data2['text'][0]"
   ]
  },
  {
   "cell_type": "code",
   "execution_count": 147,
   "id": "associate-basin",
   "metadata": {},
   "outputs": [
    {
     "name": "stdout",
     "output_type": "stream",
     "text": [
      "Summary:\n",
      "\n"
     ]
    }
   ],
   "source": [
    "print('Summary:')\n",
    "print(summarize(data2['text'][0], ratio=0.2))"
   ]
  },
  {
   "cell_type": "code",
   "execution_count": 148,
   "id": "working-bronze",
   "metadata": {},
   "outputs": [
    {
     "name": "stdout",
     "output_type": "stream",
     "text": [
      "Summary:\n",
      "upGrad's Online Power Learning has powered 3 lakh+ careers.\n"
     ]
    }
   ],
   "source": [
    "print('Summary:')\n",
    "print(summarize(data2['text'][0], ratio=0.4))"
   ]
  },
  {
   "cell_type": "code",
   "execution_count": 149,
   "id": "marked-viking",
   "metadata": {},
   "outputs": [
    {
     "name": "stdout",
     "output_type": "stream",
     "text": [
      "Summary:\n",
      "The program and upGrad's 360-degree career support helped him transition to a Data Scientist at Tech Mahindra with 90% salary hike.\n",
      "upGrad's Online Power Learning has powered 3 lakh+ careers.\n"
     ]
    }
   ],
   "source": [
    "print('Summary:')\n",
    "print(summarize(data2['text'][0], ratio=0.9))"
   ]
  },
  {
   "cell_type": "markdown",
   "id": "simplified-register",
   "metadata": {},
   "source": [
    "## 💡 회고"
   ]
  },
  {
   "cell_type": "markdown",
   "id": "integral-symbol",
   "metadata": {},
   "source": [
    "> - 추출적 요약(Extractive Summarization) : 원문에서 문장들을 추출해서 요약하는 방식. 딥 러닝 보다는 주로 전통적인 머신 러닝 방식에 속하는 텍스트 랭크와 같은 알고리즘을 사용해서 이 방법을 사용한다.\n",
    "> - 추상적 요약(Abstractive Summarization) : 원문으로부터 내용이 요약된 새로운 문장을 생성해내는 것. 자연어 생성의 영역이다."
   ]
  },
  {
   "cell_type": "markdown",
   "id": "accurate-jungle",
   "metadata": {},
   "source": [
    "> - 자연어의 전처리 과정에서 데이터의 길이를 시각화 해서 봤을때 좀더 직관적인 값을 확인할 수 있었다.\n",
    "> - 디코더의 입력과 레이블에 시작토큰(sostoken), 종료 토큰(eostoken)을 앞뒤로 추가한다.\n",
    "> - 임계값을 기준으로 낮은 등장 빈도의 단어들을 인코딩과정에서 빼고 훈련데이터에서 제거한다.\n",
    "> - 인코더의 hidden state들과 디코더의 hidden state들을 어텐션 함수의 입력으로 사용하고, 어텐션 함수가 리턴한 값을 예측 시에 디코더의 hidden state와 함께 활용하는 형태로 작동한다."
   ]
  }
 ],
 "metadata": {
  "kernelspec": {
   "display_name": "Python 3",
   "language": "python",
   "name": "python3"
  },
  "language_info": {
   "codemirror_mode": {
    "name": "ipython",
    "version": 3
   },
   "file_extension": ".py",
   "mimetype": "text/x-python",
   "name": "python",
   "nbconvert_exporter": "python",
   "pygments_lexer": "ipython3",
   "version": "3.7.9"
  }
 },
 "nbformat": 4,
 "nbformat_minor": 5
}
